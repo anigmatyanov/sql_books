{
 "cells": [
  {
   "cell_type": "markdown",
   "metadata": {},
   "source": [
    "# Проект \"Книжный сервис\""
   ]
  },
  {
   "cell_type": "markdown",
   "metadata": {
    "toc": true
   },
   "source": [
    "<h3>Содержание проекта<span class=\"tocSkip\"></span></h3>\n",
    "<div class=\"toc\"><ul class=\"toc-item\"><li><ul class=\"toc-item\"><li><span><a href=\"#Описание-проекта\" data-toc-modified-id=\"Описание-проекта-0.1\"><span class=\"toc-item-num\">0.1&nbsp;&nbsp;</span>Описание проекта</a></span></li><li><span><a href=\"#Задачи-проекта\" data-toc-modified-id=\"Задачи-проекта-0.2\"><span class=\"toc-item-num\">0.2&nbsp;&nbsp;</span>Задачи проекта</a></span></li><li><span><a href=\"#Описание-данных\" data-toc-modified-id=\"Описание-данных-0.3\"><span class=\"toc-item-num\">0.3&nbsp;&nbsp;</span>Описание данных</a></span></li><li><span><a href=\"#Задания\" data-toc-modified-id=\"Задания-0.4\"><span class=\"toc-item-num\">0.4&nbsp;&nbsp;</span>Задания</a></span></li></ul></li><li><span><a href=\"#Подключение-к-базе\" data-toc-modified-id=\"Подключение-к-базе-1\"><span class=\"toc-item-num\">1&nbsp;&nbsp;</span>Подключение к базе</a></span><ul class=\"toc-item\"><li><span><a href=\"#Импорт-библиотек\" data-toc-modified-id=\"Импорт-библиотек-1.1\"><span class=\"toc-item-num\">1.1&nbsp;&nbsp;</span>Импорт библиотек</a></span></li><li><span><a href=\"#Создание-подключения\" data-toc-modified-id=\"Создание-подключения-1.2\"><span class=\"toc-item-num\">1.2&nbsp;&nbsp;</span>Создание подключения</a></span></li></ul></li><li><span><a href=\"#Исследование-таблиц\" data-toc-modified-id=\"Исследование-таблиц-2\"><span class=\"toc-item-num\">2&nbsp;&nbsp;</span>Исследование таблиц</a></span><ul class=\"toc-item\"><li><span><a href=\"#Таблица-books\" data-toc-modified-id=\"Таблица-books-2.1\"><span class=\"toc-item-num\">2.1&nbsp;&nbsp;</span>Таблица books</a></span></li><li><span><a href=\"#Таблица-authors\" data-toc-modified-id=\"Таблица-authors-2.2\"><span class=\"toc-item-num\">2.2&nbsp;&nbsp;</span>Таблица authors</a></span></li><li><span><a href=\"#Таблица-publishers\" data-toc-modified-id=\"Таблица-publishers-2.3\"><span class=\"toc-item-num\">2.3&nbsp;&nbsp;</span>Таблица publishers</a></span></li><li><span><a href=\"#Таблица-ratings\" data-toc-modified-id=\"Таблица-ratings-2.4\"><span class=\"toc-item-num\">2.4&nbsp;&nbsp;</span>Таблица ratings</a></span></li><li><span><a href=\"#Таблица-reviews\" data-toc-modified-id=\"Таблица-reviews-2.5\"><span class=\"toc-item-num\">2.5&nbsp;&nbsp;</span>Таблица reviews</a></span></li></ul></li><li><span><a href=\"#Задания\" data-toc-modified-id=\"Задания-3\"><span class=\"toc-item-num\">3&nbsp;&nbsp;</span>Задания</a></span><ul class=\"toc-item\"><li><span><a href=\"#Книги-после-1-января-2000-года\" data-toc-modified-id=\"Книги-после-1-января-2000-года-3.1\"><span class=\"toc-item-num\">3.1&nbsp;&nbsp;</span>Книги после 1 января 2000 года</a></span><ul class=\"toc-item\"><li><span><a href=\"#Решение\" data-toc-modified-id=\"Решение-3.1.1\"><span class=\"toc-item-num\">3.1.1&nbsp;&nbsp;</span>Решение</a></span></li><li><span><a href=\"#Вывод\" data-toc-modified-id=\"Вывод-3.1.2\"><span class=\"toc-item-num\">3.1.2&nbsp;&nbsp;</span>Вывод</a></span></li></ul></li><li><span><a href=\"#Количество-обзоров-и-средняя-оценка\" data-toc-modified-id=\"Количество-обзоров-и-средняя-оценка-3.2\"><span class=\"toc-item-num\">3.2&nbsp;&nbsp;</span>Количество обзоров и средняя оценка</a></span><ul class=\"toc-item\"><li><span><a href=\"#Подготовка-к-решению\" data-toc-modified-id=\"Подготовка-к-решению-3.2.1\"><span class=\"toc-item-num\">3.2.1&nbsp;&nbsp;</span>Подготовка к решению</a></span></li><li><span><a href=\"#Решение\" data-toc-modified-id=\"Решение-3.2.2\"><span class=\"toc-item-num\">3.2.2&nbsp;&nbsp;</span>Решение</a></span></li><li><span><a href=\"#Прверка\" data-toc-modified-id=\"Прверка-3.2.3\"><span class=\"toc-item-num\">3.2.3&nbsp;&nbsp;</span>Прверка</a></span></li><li><span><a href=\"#Вывод\" data-toc-modified-id=\"Вывод-3.2.4\"><span class=\"toc-item-num\">3.2.4&nbsp;&nbsp;</span>Вывод</a></span></li></ul></li><li><span><a href=\"#Издательство-с-наибольшим-числом-книг\" data-toc-modified-id=\"Издательство-с-наибольшим-числом-книг-3.3\"><span class=\"toc-item-num\">3.3&nbsp;&nbsp;</span>Издательство с наибольшим числом книг</a></span><ul class=\"toc-item\"><li><span><a href=\"#Подготовка-к-решению\" data-toc-modified-id=\"Подготовка-к-решению-3.3.1\"><span class=\"toc-item-num\">3.3.1&nbsp;&nbsp;</span>Подготовка к решению</a></span></li><li><span><a href=\"#Решение\" data-toc-modified-id=\"Решение-3.3.2\"><span class=\"toc-item-num\">3.3.2&nbsp;&nbsp;</span>Решение</a></span></li><li><span><a href=\"#Проверка-изданий-&quot;без-книг&quot;\" data-toc-modified-id=\"Проверка-изданий-&quot;без-книг&quot;-3.3.3\"><span class=\"toc-item-num\">3.3.3&nbsp;&nbsp;</span>Проверка изданий \"без книг\"</a></span></li><li><span><a href=\"#Вывод\" data-toc-modified-id=\"Вывод-3.3.4\"><span class=\"toc-item-num\">3.3.4&nbsp;&nbsp;</span>Вывод</a></span></li></ul></li><li><span><a href=\"#Автор-с-самой-высокой-средней-оценкой\" data-toc-modified-id=\"Автор-с-самой-высокой-средней-оценкой-3.4\"><span class=\"toc-item-num\">3.4&nbsp;&nbsp;</span>Автор с самой высокой средней оценкой</a></span><ul class=\"toc-item\"><li><span><a href=\"#Подготовка-к-решению\" data-toc-modified-id=\"Подготовка-к-решению-3.4.1\"><span class=\"toc-item-num\">3.4.1&nbsp;&nbsp;</span>Подготовка к решению</a></span></li><li><span><a href=\"#Решение\" data-toc-modified-id=\"Решение-3.4.2\"><span class=\"toc-item-num\">3.4.2&nbsp;&nbsp;</span>Решение</a></span></li><li><span><a href=\"#Выводы\" data-toc-modified-id=\"Выводы-3.4.3\"><span class=\"toc-item-num\">3.4.3&nbsp;&nbsp;</span>Выводы</a></span></li></ul></li><li><span><a href=\"#Обзоры-пользователей\" data-toc-modified-id=\"Обзоры-пользователей-3.5\"><span class=\"toc-item-num\">3.5&nbsp;&nbsp;</span>Обзоры пользователей</a></span><ul class=\"toc-item\"><li><span><a href=\"#Подготовка-к-решению\" data-toc-modified-id=\"Подготовка-к-решению-3.5.1\"><span class=\"toc-item-num\">3.5.1&nbsp;&nbsp;</span>Подготовка к решению</a></span></li><li><span><a href=\"#Решение\" data-toc-modified-id=\"Решение-3.5.2\"><span class=\"toc-item-num\">3.5.2&nbsp;&nbsp;</span>Решение</a></span></li><li><span><a href=\"#Проверка\" data-toc-modified-id=\"Проверка-3.5.3\"><span class=\"toc-item-num\">3.5.3&nbsp;&nbsp;</span>Проверка</a></span></li><li><span><a href=\"#Выводы\" data-toc-modified-id=\"Выводы-3.5.4\"><span class=\"toc-item-num\">3.5.4&nbsp;&nbsp;</span>Выводы</a></span></li></ul></li></ul></li><li><span><a href=\"#Выводы-по-заданиям-и-предложения\" data-toc-modified-id=\"Выводы-по-заданиям-и-предложения-4\"><span class=\"toc-item-num\">4&nbsp;&nbsp;</span>Выводы по заданиям и предложения</a></span><ul class=\"toc-item\"><li><span><a href=\"#Выводы\" data-toc-modified-id=\"Выводы-4.1\"><span class=\"toc-item-num\">4.1&nbsp;&nbsp;</span>Выводы</a></span></li><li><span><a href=\"#Предложения\" data-toc-modified-id=\"Предложения-4.2\"><span class=\"toc-item-num\">4.2&nbsp;&nbsp;</span>Предложения</a></span></li></ul></li></ul></div>"
   ]
  },
  {
   "cell_type": "markdown",
   "metadata": {},
   "source": [
    "### Описание проекта"
   ]
  },
  {
   "cell_type": "markdown",
   "metadata": {},
   "source": [
    "Коронавирус застал мир врасплох, изменив привычный порядок вещей. В свободное время жители городов больше не выходят на улицу, не посещают кафе и торговые центры. Зато стало больше времени для книг. Это заметили стартаперы — и бросились создавать приложения для тех, кто любит читать.\n",
    "\n",
    "Ваша компания решила быть на волне и купила крупный сервис для чтения книг по подписке. Ваша первая задача как аналитика — проанализировать базу данных.\n",
    "В ней — информация о книгах, издательствах, авторах, а также пользовательские обзоры книг. Эти данные помогут сформулировать ценностное предложение для нового продукта."
   ]
  },
  {
   "cell_type": "markdown",
   "metadata": {},
   "source": [
    "### Задачи проекта"
   ]
  },
  {
   "cell_type": "markdown",
   "metadata": {},
   "source": [
    "**Цель проекта:** изучить данные и сформулировать предложения по новому продукту. \n",
    "\n",
    "**Задачи проекта:** \n",
    "1. Проанализировать информацию о книгах, авторах и издательствах, а также пользовательские обзоры книг \n",
    "2. Сформулировать предложения по продукту "
   ]
  },
  {
   "cell_type": "markdown",
   "metadata": {},
   "source": [
    "### Описание данных"
   ]
  },
  {
   "cell_type": "markdown",
   "metadata": {},
   "source": [
    "**Таблица `books`**\n",
    "\n",
    "Содержит данные о книгах:\n",
    "\n",
    "- `book_id` — идентификатор книги;\n",
    "- `author_id` — идентификатор автора;\n",
    "- `title` — название книги;\n",
    "- `num_pages` — количество страниц;\n",
    "- `publication_date` — дата публикации книги;\n",
    "- `publisher_id` — идентификатор издателя.\n",
    "\n",
    "**Таблица `authors`**\n",
    "\n",
    "Содержит данные об авторах:\n",
    "\n",
    "- `author_id` — идентификатор автора;\n",
    "- `author` — имя автора.\n",
    "\n",
    "**Таблица `publishers`**\n",
    "\n",
    "Содержит данные об издательствах:\n",
    "\n",
    "- `publisher_id` — идентификатор издательства;\n",
    "- `publisher` — название издательства;\n",
    "\n",
    "**Таблица `ratings`**\n",
    "\n",
    "Содержит данные о пользовательских оценках книг:\n",
    "\n",
    "- `rating_id` — идентификатор оценки;\n",
    "- `book_id` — идентификатор книги;\n",
    "- `username` — имя пользователя, оставившего оценку;\n",
    "- `rating` — оценка книги.\n",
    "\n",
    "**Таблица `reviews`**\n",
    "\n",
    "Содержит данные о пользовательских обзорах на книги:\n",
    "\n",
    "- `review_id` — идентификатор обзора;\n",
    "- `book_id` — идентификатор книги;\n",
    "- `username` — имя пользователя, написавшего обзор;\n",
    "- `text` — текст обзора."
   ]
  },
  {
   "cell_type": "markdown",
   "metadata": {},
   "source": [
    "### Задания"
   ]
  },
  {
   "cell_type": "markdown",
   "metadata": {},
   "source": [
    "1. Посчитайте, сколько книг вышло после 1 января 2000 года;\n",
    "2. Для каждой книги посчитайте количество обзоров и среднюю оценку;\n",
    "3. Определите издательство, которое выпустило наибольшее число книг толще 50 страниц — так вы исключите из анализа брошюры;\n",
    "4. Определите автора с самой высокой средней оценкой книг — учитывайте только книги с 50 и более оценками;\n",
    "5. Посчитайте среднее количество обзоров от пользователей, которые поставили больше 50 оценок."
   ]
  },
  {
   "cell_type": "markdown",
   "metadata": {},
   "source": [
    "## Подключение к базе "
   ]
  },
  {
   "cell_type": "markdown",
   "metadata": {},
   "source": [
    "### Импорт библиотек"
   ]
  },
  {
   "cell_type": "code",
   "execution_count": 1,
   "metadata": {},
   "outputs": [],
   "source": [
    "import pandas as pd\n",
    "from sqlalchemy import create_engine"
   ]
  },
  {
   "cell_type": "markdown",
   "metadata": {},
   "source": [
    "### Создание подключения"
   ]
  },
  {
   "cell_type": "code",
   "execution_count": 2,
   "metadata": {},
   "outputs": [],
   "source": [
    "# устанавливаем параметры\n",
    "db_config = {'user': 'praktikum_student', # имя пользователя\n",
    " 'pwd': 'Sdf4$2;d-d30pp', # пароль\n",
    " 'host': 'rc1b-wcoijxj3yxfsf3fs.mdb.yandexcloud.net',\n",
    " 'port': 6432, # порт подключения\n",
    " 'db': 'data-analyst-final-project-db'} # название базы данных\n",
    "connection_string = 'postgresql://{}:{}@{}:{}/{}'.format(db_config['user'],\n",
    " db_config['pwd'],\n",
    " db_config['host'],\n",
    " db_config['port'],\n",
    " db_config['db'])\n",
    "\n",
    "# сохраняем коннектор\n",
    "engine = create_engine(connection_string, connect_args={'sslmode':'require'}) "
   ]
  },
  {
   "cell_type": "markdown",
   "metadata": {},
   "source": [
    "## Исследование таблиц"
   ]
  },
  {
   "cell_type": "markdown",
   "metadata": {},
   "source": [
    "**Определим функцию для запросов из БД:**"
   ]
  },
  {
   "cell_type": "code",
   "execution_count": 3,
   "metadata": {},
   "outputs": [],
   "source": [
    "def select(query): \n",
    "    return pd.io.sql.read_sql(query, con=engine) "
   ]
  },
  {
   "cell_type": "markdown",
   "metadata": {},
   "source": [
    "### Таблица books"
   ]
  },
  {
   "cell_type": "markdown",
   "metadata": {},
   "source": [
    "**Таблица `books`**\n",
    "\n",
    "Содержит данные о книгах:\n",
    "\n",
    "- `book_id` — идентификатор книги;\n",
    "- `author_id` — идентификатор автора;\n",
    "- `title` — название книги;\n",
    "- `num_pages` — количество страниц;\n",
    "- `publication_date` — дата публикации книги;\n",
    "- `publisher_id` — идентификатор издателя."
   ]
  },
  {
   "cell_type": "code",
   "execution_count": 4,
   "metadata": {},
   "outputs": [
    {
     "data": {
      "text/html": [
       "<div>\n",
       "<style scoped>\n",
       "    .dataframe tbody tr th:only-of-type {\n",
       "        vertical-align: middle;\n",
       "    }\n",
       "\n",
       "    .dataframe tbody tr th {\n",
       "        vertical-align: top;\n",
       "    }\n",
       "\n",
       "    .dataframe thead th {\n",
       "        text-align: right;\n",
       "    }\n",
       "</style>\n",
       "<table border=\"1\" class=\"dataframe\">\n",
       "  <thead>\n",
       "    <tr style=\"text-align: right;\">\n",
       "      <th></th>\n",
       "      <th>book_id</th>\n",
       "      <th>author_id</th>\n",
       "      <th>title</th>\n",
       "      <th>num_pages</th>\n",
       "      <th>publication_date</th>\n",
       "      <th>publisher_id</th>\n",
       "    </tr>\n",
       "  </thead>\n",
       "  <tbody>\n",
       "    <tr>\n",
       "      <td>0</td>\n",
       "      <td>1</td>\n",
       "      <td>546</td>\n",
       "      <td>'Salem's Lot</td>\n",
       "      <td>594</td>\n",
       "      <td>2005-11-01</td>\n",
       "      <td>93</td>\n",
       "    </tr>\n",
       "    <tr>\n",
       "      <td>1</td>\n",
       "      <td>2</td>\n",
       "      <td>465</td>\n",
       "      <td>1 000 Places to See Before You Die</td>\n",
       "      <td>992</td>\n",
       "      <td>2003-05-22</td>\n",
       "      <td>336</td>\n",
       "    </tr>\n",
       "    <tr>\n",
       "      <td>2</td>\n",
       "      <td>3</td>\n",
       "      <td>407</td>\n",
       "      <td>13 Little Blue Envelopes (Little Blue Envelope...</td>\n",
       "      <td>322</td>\n",
       "      <td>2010-12-21</td>\n",
       "      <td>135</td>\n",
       "    </tr>\n",
       "    <tr>\n",
       "      <td>3</td>\n",
       "      <td>4</td>\n",
       "      <td>82</td>\n",
       "      <td>1491: New Revelations of the Americas Before C...</td>\n",
       "      <td>541</td>\n",
       "      <td>2006-10-10</td>\n",
       "      <td>309</td>\n",
       "    </tr>\n",
       "    <tr>\n",
       "      <td>4</td>\n",
       "      <td>5</td>\n",
       "      <td>125</td>\n",
       "      <td>1776</td>\n",
       "      <td>386</td>\n",
       "      <td>2006-07-04</td>\n",
       "      <td>268</td>\n",
       "    </tr>\n",
       "  </tbody>\n",
       "</table>\n",
       "</div>"
      ],
      "text/plain": [
       "   book_id  author_id                                              title  \\\n",
       "0        1        546                                       'Salem's Lot   \n",
       "1        2        465                 1 000 Places to See Before You Die   \n",
       "2        3        407  13 Little Blue Envelopes (Little Blue Envelope...   \n",
       "3        4         82  1491: New Revelations of the Americas Before C...   \n",
       "4        5        125                                               1776   \n",
       "\n",
       "   num_pages publication_date  publisher_id  \n",
       "0        594       2005-11-01            93  \n",
       "1        992       2003-05-22           336  \n",
       "2        322       2010-12-21           135  \n",
       "3        541       2006-10-10           309  \n",
       "4        386       2006-07-04           268  "
      ]
     },
     "execution_count": 4,
     "metadata": {},
     "output_type": "execute_result"
    }
   ],
   "source": [
    "books = '''\n",
    "SELECT *\n",
    "FROM books\n",
    "'''\n",
    "select(books + 'LIMIT 5')"
   ]
  },
  {
   "cell_type": "code",
   "execution_count": 5,
   "metadata": {},
   "outputs": [
    {
     "data": {
      "text/html": [
       "<div>\n",
       "<style scoped>\n",
       "    .dataframe tbody tr th:only-of-type {\n",
       "        vertical-align: middle;\n",
       "    }\n",
       "\n",
       "    .dataframe tbody tr th {\n",
       "        vertical-align: top;\n",
       "    }\n",
       "\n",
       "    .dataframe thead th {\n",
       "        text-align: right;\n",
       "    }\n",
       "</style>\n",
       "<table border=\"1\" class=\"dataframe\">\n",
       "  <thead>\n",
       "    <tr style=\"text-align: right;\">\n",
       "      <th></th>\n",
       "      <th>books_count</th>\n",
       "      <th>authors_count</th>\n",
       "      <th>publishers_count</th>\n",
       "    </tr>\n",
       "  </thead>\n",
       "  <tbody>\n",
       "    <tr>\n",
       "      <td>0</td>\n",
       "      <td>1000</td>\n",
       "      <td>636</td>\n",
       "      <td>340</td>\n",
       "    </tr>\n",
       "  </tbody>\n",
       "</table>\n",
       "</div>"
      ],
      "text/plain": [
       "   books_count  authors_count  publishers_count\n",
       "0         1000            636               340"
      ]
     },
     "execution_count": 5,
     "metadata": {},
     "output_type": "execute_result"
    }
   ],
   "source": [
    "sql = '''\n",
    "SELECT count(t.book_id) AS books_count,\n",
    "       count(DISTINCT author_id) AS authors_count,\n",
    "       count(DISTINCT publisher_id) AS publishers_count\n",
    "FROM books t\n",
    "'''\n",
    "select(sql)"
   ]
  },
  {
   "cell_type": "markdown",
   "metadata": {},
   "source": [
    "**Размер таблицы:** 6 столбцов и 1000 строк "
   ]
  },
  {
   "cell_type": "markdown",
   "metadata": {},
   "source": [
    "Отметим, что уникальных авторов в таблице 636, а уникальных изданий - 340"
   ]
  },
  {
   "cell_type": "markdown",
   "metadata": {},
   "source": [
    "### Таблица authors"
   ]
  },
  {
   "cell_type": "markdown",
   "metadata": {},
   "source": [
    "**Таблица `authors`**\n",
    "\n",
    "Содержит данные об авторах:\n",
    "\n",
    "- `author_id` — идентификатор автора;\n",
    "- `author` — имя автора."
   ]
  },
  {
   "cell_type": "code",
   "execution_count": 6,
   "metadata": {},
   "outputs": [
    {
     "data": {
      "text/html": [
       "<div>\n",
       "<style scoped>\n",
       "    .dataframe tbody tr th:only-of-type {\n",
       "        vertical-align: middle;\n",
       "    }\n",
       "\n",
       "    .dataframe tbody tr th {\n",
       "        vertical-align: top;\n",
       "    }\n",
       "\n",
       "    .dataframe thead th {\n",
       "        text-align: right;\n",
       "    }\n",
       "</style>\n",
       "<table border=\"1\" class=\"dataframe\">\n",
       "  <thead>\n",
       "    <tr style=\"text-align: right;\">\n",
       "      <th></th>\n",
       "      <th>author_id</th>\n",
       "      <th>author</th>\n",
       "    </tr>\n",
       "  </thead>\n",
       "  <tbody>\n",
       "    <tr>\n",
       "      <td>0</td>\n",
       "      <td>1</td>\n",
       "      <td>A.S. Byatt</td>\n",
       "    </tr>\n",
       "    <tr>\n",
       "      <td>1</td>\n",
       "      <td>2</td>\n",
       "      <td>Aesop/Laura Harris/Laura Gibbs</td>\n",
       "    </tr>\n",
       "    <tr>\n",
       "      <td>2</td>\n",
       "      <td>3</td>\n",
       "      <td>Agatha Christie</td>\n",
       "    </tr>\n",
       "    <tr>\n",
       "      <td>3</td>\n",
       "      <td>4</td>\n",
       "      <td>Alan Brennert</td>\n",
       "    </tr>\n",
       "    <tr>\n",
       "      <td>4</td>\n",
       "      <td>5</td>\n",
       "      <td>Alan Moore/David   Lloyd</td>\n",
       "    </tr>\n",
       "  </tbody>\n",
       "</table>\n",
       "</div>"
      ],
      "text/plain": [
       "   author_id                          author\n",
       "0          1                      A.S. Byatt\n",
       "1          2  Aesop/Laura Harris/Laura Gibbs\n",
       "2          3                 Agatha Christie\n",
       "3          4                   Alan Brennert\n",
       "4          5        Alan Moore/David   Lloyd"
      ]
     },
     "execution_count": 6,
     "metadata": {},
     "output_type": "execute_result"
    }
   ],
   "source": [
    "authors = '''\n",
    "SELECT *\n",
    "FROM authors\n",
    "'''\n",
    "select(authors + 'LIMIT 5')"
   ]
  },
  {
   "cell_type": "code",
   "execution_count": 7,
   "metadata": {},
   "outputs": [
    {
     "data": {
      "text/html": [
       "<div>\n",
       "<style scoped>\n",
       "    .dataframe tbody tr th:only-of-type {\n",
       "        vertical-align: middle;\n",
       "    }\n",
       "\n",
       "    .dataframe tbody tr th {\n",
       "        vertical-align: top;\n",
       "    }\n",
       "\n",
       "    .dataframe thead th {\n",
       "        text-align: right;\n",
       "    }\n",
       "</style>\n",
       "<table border=\"1\" class=\"dataframe\">\n",
       "  <thead>\n",
       "    <tr style=\"text-align: right;\">\n",
       "      <th></th>\n",
       "      <th>authors_count</th>\n",
       "    </tr>\n",
       "  </thead>\n",
       "  <tbody>\n",
       "    <tr>\n",
       "      <td>0</td>\n",
       "      <td>636</td>\n",
       "    </tr>\n",
       "  </tbody>\n",
       "</table>\n",
       "</div>"
      ],
      "text/plain": [
       "   authors_count\n",
       "0            636"
      ]
     },
     "execution_count": 7,
     "metadata": {},
     "output_type": "execute_result"
    }
   ],
   "source": [
    "sql = '''\n",
    "SELECT COUNT(t.author_id) AS authors_count\n",
    "FROM authors t\n",
    "'''\n",
    "select(sql)"
   ]
  },
  {
   "cell_type": "markdown",
   "metadata": {},
   "source": [
    "**Размер таблицы:** 2 столбца и 636 строк"
   ]
  },
  {
   "cell_type": "markdown",
   "metadata": {},
   "source": [
    "Так как авторов меньше, чем книг, можно сделать закономерный вывод о том, что в таблице есть авторы, которые написали больше одной книги. При этом число авторов таблиц `authors` и `books` совпадает   "
   ]
  },
  {
   "cell_type": "markdown",
   "metadata": {},
   "source": [
    "### Таблица publishers"
   ]
  },
  {
   "cell_type": "markdown",
   "metadata": {},
   "source": [
    "**Таблица `publishers`**\n",
    "\n",
    "Содержит данные об издательствах:\n",
    "\n",
    "- `publisher_id` — идентификатор издательства;\n",
    "- `publisher` — название издательства;"
   ]
  },
  {
   "cell_type": "code",
   "execution_count": 8,
   "metadata": {},
   "outputs": [
    {
     "data": {
      "text/html": [
       "<div>\n",
       "<style scoped>\n",
       "    .dataframe tbody tr th:only-of-type {\n",
       "        vertical-align: middle;\n",
       "    }\n",
       "\n",
       "    .dataframe tbody tr th {\n",
       "        vertical-align: top;\n",
       "    }\n",
       "\n",
       "    .dataframe thead th {\n",
       "        text-align: right;\n",
       "    }\n",
       "</style>\n",
       "<table border=\"1\" class=\"dataframe\">\n",
       "  <thead>\n",
       "    <tr style=\"text-align: right;\">\n",
       "      <th></th>\n",
       "      <th>publisher_id</th>\n",
       "      <th>publisher</th>\n",
       "    </tr>\n",
       "  </thead>\n",
       "  <tbody>\n",
       "    <tr>\n",
       "      <td>0</td>\n",
       "      <td>1</td>\n",
       "      <td>Ace</td>\n",
       "    </tr>\n",
       "    <tr>\n",
       "      <td>1</td>\n",
       "      <td>2</td>\n",
       "      <td>Ace Book</td>\n",
       "    </tr>\n",
       "    <tr>\n",
       "      <td>2</td>\n",
       "      <td>3</td>\n",
       "      <td>Ace Books</td>\n",
       "    </tr>\n",
       "    <tr>\n",
       "      <td>3</td>\n",
       "      <td>4</td>\n",
       "      <td>Ace Hardcover</td>\n",
       "    </tr>\n",
       "    <tr>\n",
       "      <td>4</td>\n",
       "      <td>5</td>\n",
       "      <td>Addison Wesley Publishing Company</td>\n",
       "    </tr>\n",
       "  </tbody>\n",
       "</table>\n",
       "</div>"
      ],
      "text/plain": [
       "   publisher_id                          publisher\n",
       "0             1                                Ace\n",
       "1             2                           Ace Book\n",
       "2             3                          Ace Books\n",
       "3             4                      Ace Hardcover\n",
       "4             5  Addison Wesley Publishing Company"
      ]
     },
     "execution_count": 8,
     "metadata": {},
     "output_type": "execute_result"
    }
   ],
   "source": [
    "publishers = '''\n",
    "SELECT *\n",
    "FROM publishers\n",
    "'''\n",
    "select(publishers + 'LIMIT 5')"
   ]
  },
  {
   "cell_type": "code",
   "execution_count": 9,
   "metadata": {},
   "outputs": [
    {
     "data": {
      "text/html": [
       "<div>\n",
       "<style scoped>\n",
       "    .dataframe tbody tr th:only-of-type {\n",
       "        vertical-align: middle;\n",
       "    }\n",
       "\n",
       "    .dataframe tbody tr th {\n",
       "        vertical-align: top;\n",
       "    }\n",
       "\n",
       "    .dataframe thead th {\n",
       "        text-align: right;\n",
       "    }\n",
       "</style>\n",
       "<table border=\"1\" class=\"dataframe\">\n",
       "  <thead>\n",
       "    <tr style=\"text-align: right;\">\n",
       "      <th></th>\n",
       "      <th>publishers_count</th>\n",
       "    </tr>\n",
       "  </thead>\n",
       "  <tbody>\n",
       "    <tr>\n",
       "      <td>0</td>\n",
       "      <td>340</td>\n",
       "    </tr>\n",
       "  </tbody>\n",
       "</table>\n",
       "</div>"
      ],
      "text/plain": [
       "   publishers_count\n",
       "0               340"
      ]
     },
     "execution_count": 9,
     "metadata": {},
     "output_type": "execute_result"
    }
   ],
   "source": [
    "sql = '''\n",
    "SELECT count(t.publisher_id) AS publishers_count\n",
    "FROM publishers t\n",
    "'''\n",
    "select(sql)"
   ]
  },
  {
   "cell_type": "markdown",
   "metadata": {},
   "source": [
    "**Размер таблицы:** 2 столбца и 340 строк"
   ]
  },
  {
   "cell_type": "markdown",
   "metadata": {},
   "source": [
    "Число издательств таблиц `publishers` и `books` совпадает   "
   ]
  },
  {
   "cell_type": "markdown",
   "metadata": {},
   "source": [
    "### Таблица ratings"
   ]
  },
  {
   "cell_type": "markdown",
   "metadata": {},
   "source": [
    "**Таблица `ratings`**\n",
    "\n",
    "Содержит данные о пользовательских оценках книг:\n",
    "\n",
    "- `rating_id` — идентификатор оценки;\n",
    "- `book_id` — идентификатор книги;\n",
    "- `username` — имя пользователя, оставившего оценку;\n",
    "- `rating` — оценка книги."
   ]
  },
  {
   "cell_type": "code",
   "execution_count": 10,
   "metadata": {},
   "outputs": [
    {
     "data": {
      "text/html": [
       "<div>\n",
       "<style scoped>\n",
       "    .dataframe tbody tr th:only-of-type {\n",
       "        vertical-align: middle;\n",
       "    }\n",
       "\n",
       "    .dataframe tbody tr th {\n",
       "        vertical-align: top;\n",
       "    }\n",
       "\n",
       "    .dataframe thead th {\n",
       "        text-align: right;\n",
       "    }\n",
       "</style>\n",
       "<table border=\"1\" class=\"dataframe\">\n",
       "  <thead>\n",
       "    <tr style=\"text-align: right;\">\n",
       "      <th></th>\n",
       "      <th>rating_id</th>\n",
       "      <th>book_id</th>\n",
       "      <th>username</th>\n",
       "      <th>rating</th>\n",
       "    </tr>\n",
       "  </thead>\n",
       "  <tbody>\n",
       "    <tr>\n",
       "      <td>0</td>\n",
       "      <td>1</td>\n",
       "      <td>1</td>\n",
       "      <td>ryanfranco</td>\n",
       "      <td>4</td>\n",
       "    </tr>\n",
       "    <tr>\n",
       "      <td>1</td>\n",
       "      <td>2</td>\n",
       "      <td>1</td>\n",
       "      <td>grantpatricia</td>\n",
       "      <td>2</td>\n",
       "    </tr>\n",
       "    <tr>\n",
       "      <td>2</td>\n",
       "      <td>3</td>\n",
       "      <td>1</td>\n",
       "      <td>brandtandrea</td>\n",
       "      <td>5</td>\n",
       "    </tr>\n",
       "    <tr>\n",
       "      <td>3</td>\n",
       "      <td>4</td>\n",
       "      <td>2</td>\n",
       "      <td>lorichen</td>\n",
       "      <td>3</td>\n",
       "    </tr>\n",
       "    <tr>\n",
       "      <td>4</td>\n",
       "      <td>5</td>\n",
       "      <td>2</td>\n",
       "      <td>mariokeller</td>\n",
       "      <td>2</td>\n",
       "    </tr>\n",
       "  </tbody>\n",
       "</table>\n",
       "</div>"
      ],
      "text/plain": [
       "   rating_id  book_id       username  rating\n",
       "0          1        1     ryanfranco       4\n",
       "1          2        1  grantpatricia       2\n",
       "2          3        1   brandtandrea       5\n",
       "3          4        2       lorichen       3\n",
       "4          5        2    mariokeller       2"
      ]
     },
     "execution_count": 10,
     "metadata": {},
     "output_type": "execute_result"
    }
   ],
   "source": [
    "ratings = '''\n",
    "SELECT *\n",
    "FROM ratings\n",
    "'''\n",
    "select(ratings + 'LIMIT 5')"
   ]
  },
  {
   "cell_type": "code",
   "execution_count": 11,
   "metadata": {},
   "outputs": [
    {
     "data": {
      "text/html": [
       "<div>\n",
       "<style scoped>\n",
       "    .dataframe tbody tr th:only-of-type {\n",
       "        vertical-align: middle;\n",
       "    }\n",
       "\n",
       "    .dataframe tbody tr th {\n",
       "        vertical-align: top;\n",
       "    }\n",
       "\n",
       "    .dataframe thead th {\n",
       "        text-align: right;\n",
       "    }\n",
       "</style>\n",
       "<table border=\"1\" class=\"dataframe\">\n",
       "  <thead>\n",
       "    <tr style=\"text-align: right;\">\n",
       "      <th></th>\n",
       "      <th>ratings_count</th>\n",
       "      <th>books_count</th>\n",
       "    </tr>\n",
       "  </thead>\n",
       "  <tbody>\n",
       "    <tr>\n",
       "      <td>0</td>\n",
       "      <td>6456</td>\n",
       "      <td>1000</td>\n",
       "    </tr>\n",
       "  </tbody>\n",
       "</table>\n",
       "</div>"
      ],
      "text/plain": [
       "   ratings_count  books_count\n",
       "0           6456         1000"
      ]
     },
     "execution_count": 11,
     "metadata": {},
     "output_type": "execute_result"
    }
   ],
   "source": [
    "sql = '''\n",
    "SELECT count(t.rating_id) AS ratings_count,\n",
    "       count(DISTINCT t.book_id) AS books_count\n",
    "FROM ratings t\n",
    "'''\n",
    "select(sql)"
   ]
  },
  {
   "cell_type": "markdown",
   "metadata": {},
   "source": [
    "**Размер таблицы:** 4 столбца и 6456 строк"
   ]
  },
  {
   "cell_type": "markdown",
   "metadata": {},
   "source": [
    "Оценка есть у каждой книги"
   ]
  },
  {
   "cell_type": "markdown",
   "metadata": {},
   "source": [
    "### Таблица reviews "
   ]
  },
  {
   "cell_type": "markdown",
   "metadata": {},
   "source": [
    "**Таблица `reviews`**\n",
    "\n",
    "Содержит данные о пользовательских обзорах на книги:\n",
    "\n",
    "- `review_id` — идентификатор обзора;\n",
    "- `book_id` — идентификатор книги;\n",
    "- `username` — имя пользователя, написавшего обзор;\n",
    "- `text` — текст обзора."
   ]
  },
  {
   "cell_type": "code",
   "execution_count": 12,
   "metadata": {},
   "outputs": [
    {
     "data": {
      "text/html": [
       "<div>\n",
       "<style scoped>\n",
       "    .dataframe tbody tr th:only-of-type {\n",
       "        vertical-align: middle;\n",
       "    }\n",
       "\n",
       "    .dataframe tbody tr th {\n",
       "        vertical-align: top;\n",
       "    }\n",
       "\n",
       "    .dataframe thead th {\n",
       "        text-align: right;\n",
       "    }\n",
       "</style>\n",
       "<table border=\"1\" class=\"dataframe\">\n",
       "  <thead>\n",
       "    <tr style=\"text-align: right;\">\n",
       "      <th></th>\n",
       "      <th>review_id</th>\n",
       "      <th>book_id</th>\n",
       "      <th>username</th>\n",
       "      <th>text</th>\n",
       "    </tr>\n",
       "  </thead>\n",
       "  <tbody>\n",
       "    <tr>\n",
       "      <td>0</td>\n",
       "      <td>1</td>\n",
       "      <td>1</td>\n",
       "      <td>brandtandrea</td>\n",
       "      <td>Mention society tell send professor analysis. ...</td>\n",
       "    </tr>\n",
       "    <tr>\n",
       "      <td>1</td>\n",
       "      <td>2</td>\n",
       "      <td>1</td>\n",
       "      <td>ryanfranco</td>\n",
       "      <td>Foot glass pretty audience hit themselves. Amo...</td>\n",
       "    </tr>\n",
       "    <tr>\n",
       "      <td>2</td>\n",
       "      <td>3</td>\n",
       "      <td>2</td>\n",
       "      <td>lorichen</td>\n",
       "      <td>Listen treat keep worry. Miss husband tax but ...</td>\n",
       "    </tr>\n",
       "    <tr>\n",
       "      <td>3</td>\n",
       "      <td>4</td>\n",
       "      <td>3</td>\n",
       "      <td>johnsonamanda</td>\n",
       "      <td>Finally month interesting blue could nature cu...</td>\n",
       "    </tr>\n",
       "    <tr>\n",
       "      <td>4</td>\n",
       "      <td>5</td>\n",
       "      <td>3</td>\n",
       "      <td>scotttamara</td>\n",
       "      <td>Nation purpose heavy give wait song will. List...</td>\n",
       "    </tr>\n",
       "  </tbody>\n",
       "</table>\n",
       "</div>"
      ],
      "text/plain": [
       "   review_id  book_id       username  \\\n",
       "0          1        1   brandtandrea   \n",
       "1          2        1     ryanfranco   \n",
       "2          3        2       lorichen   \n",
       "3          4        3  johnsonamanda   \n",
       "4          5        3    scotttamara   \n",
       "\n",
       "                                                text  \n",
       "0  Mention society tell send professor analysis. ...  \n",
       "1  Foot glass pretty audience hit themselves. Amo...  \n",
       "2  Listen treat keep worry. Miss husband tax but ...  \n",
       "3  Finally month interesting blue could nature cu...  \n",
       "4  Nation purpose heavy give wait song will. List...  "
      ]
     },
     "execution_count": 12,
     "metadata": {},
     "output_type": "execute_result"
    }
   ],
   "source": [
    "reviews = '''\n",
    "SELECT *\n",
    "FROM reviews\n",
    "'''\n",
    "select(reviews + 'LIMIT 5')"
   ]
  },
  {
   "cell_type": "code",
   "execution_count": 13,
   "metadata": {},
   "outputs": [
    {
     "data": {
      "text/html": [
       "<div>\n",
       "<style scoped>\n",
       "    .dataframe tbody tr th:only-of-type {\n",
       "        vertical-align: middle;\n",
       "    }\n",
       "\n",
       "    .dataframe tbody tr th {\n",
       "        vertical-align: top;\n",
       "    }\n",
       "\n",
       "    .dataframe thead th {\n",
       "        text-align: right;\n",
       "    }\n",
       "</style>\n",
       "<table border=\"1\" class=\"dataframe\">\n",
       "  <thead>\n",
       "    <tr style=\"text-align: right;\">\n",
       "      <th></th>\n",
       "      <th>reviews_count</th>\n",
       "      <th>books_count</th>\n",
       "    </tr>\n",
       "  </thead>\n",
       "  <tbody>\n",
       "    <tr>\n",
       "      <td>0</td>\n",
       "      <td>2793</td>\n",
       "      <td>994</td>\n",
       "    </tr>\n",
       "  </tbody>\n",
       "</table>\n",
       "</div>"
      ],
      "text/plain": [
       "   reviews_count  books_count\n",
       "0           2793          994"
      ]
     },
     "execution_count": 13,
     "metadata": {},
     "output_type": "execute_result"
    }
   ],
   "source": [
    "sql = '''\n",
    "SELECT count(t.review_id) AS reviews_count,\n",
    "       count(DISTINCT t.book_id) AS books_count\n",
    "FROM reviews t\n",
    "'''\n",
    "select(sql)"
   ]
  },
  {
   "cell_type": "markdown",
   "metadata": {},
   "source": [
    "**Размер таблицы:** 4 столбца и 2793 строки"
   ]
  },
  {
   "cell_type": "markdown",
   "metadata": {},
   "source": [
    "При этом стоит заметить, что на 6 книг нет пользовательских обзоров. Это может быть важно при дальнейшем анализе "
   ]
  },
  {
   "cell_type": "markdown",
   "metadata": {},
   "source": [
    "##  Задания"
   ]
  },
  {
   "cell_type": "markdown",
   "metadata": {},
   "source": [
    "1. Посчитайте, сколько книг вышло после 1 января 2000 года;\n",
    "2. Для каждой книги посчитайте количество обзоров и среднюю оценку;\n",
    "3. Определите издательство, которое выпустило наибольшее число книг толще 50 страниц — так вы исключите из анализа брошюры;\n",
    "4. Определите автора с самой высокой средней оценкой книг — учитывайте только книги с 50 и более оценками;\n",
    "5. Посчитайте среднее количество обзоров от пользователей, которые поставили больше 50 оценок."
   ]
  },
  {
   "cell_type": "markdown",
   "metadata": {},
   "source": [
    "### Книги после 1 января 2000 года"
   ]
  },
  {
   "cell_type": "markdown",
   "metadata": {},
   "source": [
    "Посчитайте, сколько книг вышло после 1 января 2000 года"
   ]
  },
  {
   "cell_type": "markdown",
   "metadata": {},
   "source": [
    "#### Решение"
   ]
  },
  {
   "cell_type": "code",
   "execution_count": 14,
   "metadata": {},
   "outputs": [
    {
     "data": {
      "text/html": [
       "<div>\n",
       "<style scoped>\n",
       "    .dataframe tbody tr th:only-of-type {\n",
       "        vertical-align: middle;\n",
       "    }\n",
       "\n",
       "    .dataframe tbody tr th {\n",
       "        vertical-align: top;\n",
       "    }\n",
       "\n",
       "    .dataframe thead th {\n",
       "        text-align: right;\n",
       "    }\n",
       "</style>\n",
       "<table border=\"1\" class=\"dataframe\">\n",
       "  <thead>\n",
       "    <tr style=\"text-align: right;\">\n",
       "      <th></th>\n",
       "      <th>books_count</th>\n",
       "    </tr>\n",
       "  </thead>\n",
       "  <tbody>\n",
       "    <tr>\n",
       "      <td>0</td>\n",
       "      <td>819</td>\n",
       "    </tr>\n",
       "  </tbody>\n",
       "</table>\n",
       "</div>"
      ],
      "text/plain": [
       "   books_count\n",
       "0          819"
      ]
     },
     "execution_count": 14,
     "metadata": {},
     "output_type": "execute_result"
    }
   ],
   "source": [
    "task_1 = '''\n",
    "SELECT COUNT(t.book_id) AS books_count\n",
    "FROM books t\n",
    "WHERE publication_date > '2000-01-01'\n",
    "'''\n",
    "select(task_1)"
   ]
  },
  {
   "cell_type": "markdown",
   "metadata": {},
   "source": [
    "#### Вывод"
   ]
  },
  {
   "cell_type": "markdown",
   "metadata": {},
   "source": [
    "После 1 января 2000 года вышло 819 книг из 1000, представленных в таблице"
   ]
  },
  {
   "cell_type": "markdown",
   "metadata": {},
   "source": [
    "###  Количество обзоров и средняя оценка"
   ]
  },
  {
   "cell_type": "markdown",
   "metadata": {},
   "source": [
    "Для каждой книги посчитайте количество обзоров и среднюю оценку"
   ]
  },
  {
   "cell_type": "markdown",
   "metadata": {},
   "source": [
    "**Какие данные нам понадобятся:**\n",
    "1. `books.book_id`\n",
    "2. `books.title`\n",
    "3. `reviews.review_id`\n",
    "4. `ratings.rating`\n",
    "\n",
    "**Структура будущей таблицы:**\n",
    "1. `books.book_id`\n",
    "2. `books.title`\n",
    "3. `reviews.reviews_count`\n",
    "4. `ratings.rating_avg`\n",
    "\n",
    "**Последовательность объединений таблиц:**\n",
    "1. `reviews` + `ratings` -> `ratings_reviews`\n",
    "2. `books` + `ratings_reviews` -> `task_final`"
   ]
  },
  {
   "cell_type": "markdown",
   "metadata": {},
   "source": [
    "#### Подготовка к решению"
   ]
  },
  {
   "cell_type": "markdown",
   "metadata": {},
   "source": [
    "**1. Найдем число обзоров на каждыую книгу**"
   ]
  },
  {
   "cell_type": "code",
   "execution_count": 15,
   "metadata": {},
   "outputs": [
    {
     "data": {
      "text/html": [
       "<div>\n",
       "<style scoped>\n",
       "    .dataframe tbody tr th:only-of-type {\n",
       "        vertical-align: middle;\n",
       "    }\n",
       "\n",
       "    .dataframe tbody tr th {\n",
       "        vertical-align: top;\n",
       "    }\n",
       "\n",
       "    .dataframe thead th {\n",
       "        text-align: right;\n",
       "    }\n",
       "</style>\n",
       "<table border=\"1\" class=\"dataframe\">\n",
       "  <thead>\n",
       "    <tr style=\"text-align: right;\">\n",
       "      <th></th>\n",
       "      <th>book_id</th>\n",
       "      <th>reviews_count</th>\n",
       "    </tr>\n",
       "  </thead>\n",
       "  <tbody>\n",
       "    <tr>\n",
       "      <td>0</td>\n",
       "      <td>652</td>\n",
       "      <td>2</td>\n",
       "    </tr>\n",
       "    <tr>\n",
       "      <td>1</td>\n",
       "      <td>273</td>\n",
       "      <td>2</td>\n",
       "    </tr>\n",
       "    <tr>\n",
       "      <td>2</td>\n",
       "      <td>51</td>\n",
       "      <td>5</td>\n",
       "    </tr>\n",
       "    <tr>\n",
       "      <td>3</td>\n",
       "      <td>951</td>\n",
       "      <td>2</td>\n",
       "    </tr>\n",
       "    <tr>\n",
       "      <td>4</td>\n",
       "      <td>839</td>\n",
       "      <td>4</td>\n",
       "    </tr>\n",
       "  </tbody>\n",
       "</table>\n",
       "</div>"
      ],
      "text/plain": [
       "   book_id  reviews_count\n",
       "0      652              2\n",
       "1      273              2\n",
       "2       51              5\n",
       "3      951              2\n",
       "4      839              4"
      ]
     },
     "execution_count": 15,
     "metadata": {},
     "output_type": "execute_result"
    }
   ],
   "source": [
    "sql = '''\n",
    "SELECT t1.book_id,\n",
    "       count(t1.review_id) AS reviews_count\n",
    "FROM reviews t1\n",
    "GROUP BY t1.book_id\n",
    "'''\n",
    "select(sql + 'LIMIT 5')"
   ]
  },
  {
   "cell_type": "markdown",
   "metadata": {},
   "source": [
    "**2. Найдем среднюю оценку каждой книги**"
   ]
  },
  {
   "cell_type": "code",
   "execution_count": 16,
   "metadata": {},
   "outputs": [
    {
     "data": {
      "text/html": [
       "<div>\n",
       "<style scoped>\n",
       "    .dataframe tbody tr th:only-of-type {\n",
       "        vertical-align: middle;\n",
       "    }\n",
       "\n",
       "    .dataframe tbody tr th {\n",
       "        vertical-align: top;\n",
       "    }\n",
       "\n",
       "    .dataframe thead th {\n",
       "        text-align: right;\n",
       "    }\n",
       "</style>\n",
       "<table border=\"1\" class=\"dataframe\">\n",
       "  <thead>\n",
       "    <tr style=\"text-align: right;\">\n",
       "      <th></th>\n",
       "      <th>book_id</th>\n",
       "      <th>rating_avg</th>\n",
       "    </tr>\n",
       "  </thead>\n",
       "  <tbody>\n",
       "    <tr>\n",
       "      <td>0</td>\n",
       "      <td>652</td>\n",
       "      <td>4.50</td>\n",
       "    </tr>\n",
       "    <tr>\n",
       "      <td>1</td>\n",
       "      <td>273</td>\n",
       "      <td>4.50</td>\n",
       "    </tr>\n",
       "    <tr>\n",
       "      <td>2</td>\n",
       "      <td>51</td>\n",
       "      <td>4.25</td>\n",
       "    </tr>\n",
       "    <tr>\n",
       "      <td>3</td>\n",
       "      <td>951</td>\n",
       "      <td>4.00</td>\n",
       "    </tr>\n",
       "    <tr>\n",
       "      <td>4</td>\n",
       "      <td>839</td>\n",
       "      <td>4.29</td>\n",
       "    </tr>\n",
       "  </tbody>\n",
       "</table>\n",
       "</div>"
      ],
      "text/plain": [
       "   book_id  rating_avg\n",
       "0      652        4.50\n",
       "1      273        4.50\n",
       "2       51        4.25\n",
       "3      951        4.00\n",
       "4      839        4.29"
      ]
     },
     "execution_count": 16,
     "metadata": {},
     "output_type": "execute_result"
    }
   ],
   "source": [
    "sql = '''\n",
    "SELECT t2.book_id,\n",
    "       round(avg(t2.rating), 2) AS rating_avg\n",
    "FROM ratings t2\n",
    "GROUP BY t2.book_id\n",
    "'''\n",
    "select(sql + 'LIMIT 5')"
   ]
  },
  {
   "cell_type": "markdown",
   "metadata": {},
   "source": [
    "**3. Найдем средниюю оценку и количество обзоров на каждую книгу**"
   ]
  },
  {
   "cell_type": "code",
   "execution_count": 17,
   "metadata": {},
   "outputs": [
    {
     "data": {
      "text/html": [
       "<div>\n",
       "<style scoped>\n",
       "    .dataframe tbody tr th:only-of-type {\n",
       "        vertical-align: middle;\n",
       "    }\n",
       "\n",
       "    .dataframe tbody tr th {\n",
       "        vertical-align: top;\n",
       "    }\n",
       "\n",
       "    .dataframe thead th {\n",
       "        text-align: right;\n",
       "    }\n",
       "</style>\n",
       "<table border=\"1\" class=\"dataframe\">\n",
       "  <thead>\n",
       "    <tr style=\"text-align: right;\">\n",
       "      <th></th>\n",
       "      <th>book_id</th>\n",
       "      <th>rating_avg</th>\n",
       "      <th>reviews_count</th>\n",
       "    </tr>\n",
       "  </thead>\n",
       "  <tbody>\n",
       "    <tr>\n",
       "      <td>0</td>\n",
       "      <td>1</td>\n",
       "      <td>3.67</td>\n",
       "      <td>2</td>\n",
       "    </tr>\n",
       "    <tr>\n",
       "      <td>1</td>\n",
       "      <td>2</td>\n",
       "      <td>2.50</td>\n",
       "      <td>1</td>\n",
       "    </tr>\n",
       "    <tr>\n",
       "      <td>2</td>\n",
       "      <td>3</td>\n",
       "      <td>4.67</td>\n",
       "      <td>3</td>\n",
       "    </tr>\n",
       "    <tr>\n",
       "      <td>3</td>\n",
       "      <td>4</td>\n",
       "      <td>4.50</td>\n",
       "      <td>2</td>\n",
       "    </tr>\n",
       "    <tr>\n",
       "      <td>4</td>\n",
       "      <td>5</td>\n",
       "      <td>4.00</td>\n",
       "      <td>4</td>\n",
       "    </tr>\n",
       "  </tbody>\n",
       "</table>\n",
       "</div>"
      ],
      "text/plain": [
       "   book_id  rating_avg  reviews_count\n",
       "0        1        3.67              2\n",
       "1        2        2.50              1\n",
       "2        3        4.67              3\n",
       "3        4        4.50              2\n",
       "4        5        4.00              4"
      ]
     },
     "execution_count": 17,
     "metadata": {},
     "output_type": "execute_result"
    }
   ],
   "source": [
    "sql = '''\n",
    "WITH new_reviews AS\n",
    "  (SELECT t1.book_id,\n",
    "          count(t1.review_id) AS reviews_count\n",
    "   FROM reviews t1\n",
    "   GROUP BY t1.book_id),\n",
    "     new_ratings AS\n",
    "  (SELECT t2.book_id,\n",
    "          round(avg(t2.rating), 2) AS rating_avg\n",
    "   FROM ratings t2\n",
    "   GROUP BY t2.book_id),\n",
    "     ratings_reviews AS\n",
    "  (SELECT t3.book_id,\n",
    "          t3.rating_avg,\n",
    "          t4.reviews_count\n",
    "   FROM (new_ratings t3\n",
    "         LEFT JOIN new_reviews t4 ON t3.book_id = t4.book_id))\n",
    "SELECT *\n",
    "FROM ratings_reviews\n",
    "'''\n",
    "select(sql + 'LIMIT 5')"
   ]
  },
  {
   "cell_type": "markdown",
   "metadata": {},
   "source": [
    "**4. Проверим, что в итоговой таблице содержатся все книги**"
   ]
  },
  {
   "cell_type": "code",
   "execution_count": 18,
   "metadata": {},
   "outputs": [
    {
     "data": {
      "text/html": [
       "<div>\n",
       "<style scoped>\n",
       "    .dataframe tbody tr th:only-of-type {\n",
       "        vertical-align: middle;\n",
       "    }\n",
       "\n",
       "    .dataframe tbody tr th {\n",
       "        vertical-align: top;\n",
       "    }\n",
       "\n",
       "    .dataframe thead th {\n",
       "        text-align: right;\n",
       "    }\n",
       "</style>\n",
       "<table border=\"1\" class=\"dataframe\">\n",
       "  <thead>\n",
       "    <tr style=\"text-align: right;\">\n",
       "      <th></th>\n",
       "      <th>count</th>\n",
       "    </tr>\n",
       "  </thead>\n",
       "  <tbody>\n",
       "    <tr>\n",
       "      <td>0</td>\n",
       "      <td>1000</td>\n",
       "    </tr>\n",
       "  </tbody>\n",
       "</table>\n",
       "</div>"
      ],
      "text/plain": [
       "   count\n",
       "0   1000"
      ]
     },
     "execution_count": 18,
     "metadata": {},
     "output_type": "execute_result"
    }
   ],
   "source": [
    "sql = '''\n",
    "WITH new_reviews AS\n",
    "  (SELECT t1.book_id,\n",
    "          count(t1.review_id) AS reviews_count\n",
    "   FROM reviews t1\n",
    "   GROUP BY t1.book_id),\n",
    "     new_ratings AS\n",
    "  (SELECT t2.book_id,\n",
    "          round(avg(t2.rating), 2) AS rating_avg\n",
    "   FROM ratings t2\n",
    "   GROUP BY t2.book_id),\n",
    "     ratings_reviews AS\n",
    "  (SELECT t3.book_id,\n",
    "          t3.rating_avg,\n",
    "          t4.reviews_count\n",
    "   FROM (new_ratings t3\n",
    "         LEFT JOIN new_reviews t4 ON t3.book_id = t4.book_id))\n",
    "SELECT count(t.book_id)\n",
    "FROM ratings_reviews t\n",
    "'''\n",
    "select(sql)"
   ]
  },
  {
   "cell_type": "markdown",
   "metadata": {},
   "source": [
    "#### Решение"
   ]
  },
  {
   "cell_type": "code",
   "execution_count": 19,
   "metadata": {},
   "outputs": [
    {
     "data": {
      "text/html": [
       "<div>\n",
       "<style scoped>\n",
       "    .dataframe tbody tr th:only-of-type {\n",
       "        vertical-align: middle;\n",
       "    }\n",
       "\n",
       "    .dataframe tbody tr th {\n",
       "        vertical-align: top;\n",
       "    }\n",
       "\n",
       "    .dataframe thead th {\n",
       "        text-align: right;\n",
       "    }\n",
       "</style>\n",
       "<table border=\"1\" class=\"dataframe\">\n",
       "  <thead>\n",
       "    <tr style=\"text-align: right;\">\n",
       "      <th></th>\n",
       "      <th>book_id</th>\n",
       "      <th>title</th>\n",
       "      <th>reviews_count</th>\n",
       "      <th>rating_avg</th>\n",
       "    </tr>\n",
       "  </thead>\n",
       "  <tbody>\n",
       "    <tr>\n",
       "      <td>0</td>\n",
       "      <td>948</td>\n",
       "      <td>Twilight (Twilight  #1)</td>\n",
       "      <td>7</td>\n",
       "      <td>3.66</td>\n",
       "    </tr>\n",
       "    <tr>\n",
       "      <td>1</td>\n",
       "      <td>696</td>\n",
       "      <td>The Da Vinci Code (Robert Langdon  #2)</td>\n",
       "      <td>6</td>\n",
       "      <td>3.83</td>\n",
       "    </tr>\n",
       "    <tr>\n",
       "      <td>2</td>\n",
       "      <td>207</td>\n",
       "      <td>Eat  Pray  Love</td>\n",
       "      <td>6</td>\n",
       "      <td>3.40</td>\n",
       "    </tr>\n",
       "    <tr>\n",
       "      <td>3</td>\n",
       "      <td>627</td>\n",
       "      <td>The Alchemist</td>\n",
       "      <td>6</td>\n",
       "      <td>3.79</td>\n",
       "    </tr>\n",
       "    <tr>\n",
       "      <td>4</td>\n",
       "      <td>673</td>\n",
       "      <td>The Catcher in the Rye</td>\n",
       "      <td>6</td>\n",
       "      <td>3.83</td>\n",
       "    </tr>\n",
       "    <tr>\n",
       "      <td>5</td>\n",
       "      <td>695</td>\n",
       "      <td>The Curious Incident of the Dog in the Night-Time</td>\n",
       "      <td>6</td>\n",
       "      <td>4.08</td>\n",
       "    </tr>\n",
       "    <tr>\n",
       "      <td>6</td>\n",
       "      <td>302</td>\n",
       "      <td>Harry Potter and the Prisoner of Azkaban (Harr...</td>\n",
       "      <td>6</td>\n",
       "      <td>4.41</td>\n",
       "    </tr>\n",
       "    <tr>\n",
       "      <td>7</td>\n",
       "      <td>299</td>\n",
       "      <td>Harry Potter and the Chamber of Secrets (Harry...</td>\n",
       "      <td>6</td>\n",
       "      <td>4.29</td>\n",
       "    </tr>\n",
       "    <tr>\n",
       "      <td>8</td>\n",
       "      <td>497</td>\n",
       "      <td>Outlander (Outlander  #1)</td>\n",
       "      <td>6</td>\n",
       "      <td>4.13</td>\n",
       "    </tr>\n",
       "    <tr>\n",
       "      <td>9</td>\n",
       "      <td>656</td>\n",
       "      <td>The Book Thief</td>\n",
       "      <td>6</td>\n",
       "      <td>4.26</td>\n",
       "    </tr>\n",
       "  </tbody>\n",
       "</table>\n",
       "</div>"
      ],
      "text/plain": [
       "   book_id                                              title  reviews_count  \\\n",
       "0      948                            Twilight (Twilight  #1)              7   \n",
       "1      696             The Da Vinci Code (Robert Langdon  #2)              6   \n",
       "2      207                                    Eat  Pray  Love              6   \n",
       "3      627                                      The Alchemist              6   \n",
       "4      673                             The Catcher in the Rye              6   \n",
       "5      695  The Curious Incident of the Dog in the Night-Time              6   \n",
       "6      302  Harry Potter and the Prisoner of Azkaban (Harr...              6   \n",
       "7      299  Harry Potter and the Chamber of Secrets (Harry...              6   \n",
       "8      497                          Outlander (Outlander  #1)              6   \n",
       "9      656                                     The Book Thief              6   \n",
       "\n",
       "   rating_avg  \n",
       "0        3.66  \n",
       "1        3.83  \n",
       "2        3.40  \n",
       "3        3.79  \n",
       "4        3.83  \n",
       "5        4.08  \n",
       "6        4.41  \n",
       "7        4.29  \n",
       "8        4.13  \n",
       "9        4.26  "
      ]
     },
     "execution_count": 19,
     "metadata": {},
     "output_type": "execute_result"
    }
   ],
   "source": [
    "task_2 = '''\n",
    "WITH new_reviews AS\n",
    "  (SELECT t1.book_id,\n",
    "          count(t1.review_id) AS reviews_count\n",
    "   FROM reviews t1\n",
    "   GROUP BY t1.book_id),\n",
    "     new_ratings AS\n",
    "  (SELECT t2.book_id,\n",
    "          round(avg(t2.rating), 2) AS rating_avg\n",
    "   FROM ratings t2\n",
    "   GROUP BY t2.book_id),\n",
    "     ratings_reviews AS\n",
    "  (SELECT t3.book_id,\n",
    "          t3.rating_avg,\n",
    "          t4.reviews_count\n",
    "   FROM (new_ratings t3\n",
    "         LEFT JOIN new_reviews t4 ON t3.book_id = t4.book_id))\n",
    "SELECT t5.book_id,\n",
    "       t5.title,\n",
    "       t6.reviews_count,\n",
    "       t6.rating_avg\n",
    "FROM (books t5\n",
    "      LEFT JOIN ratings_reviews t6 ON t5.book_id = t6.book_id)\n",
    "'''\n",
    "select(task_2 + 'where t6.reviews_count is not null order by t6.reviews_count desc limit 10')"
   ]
  },
  {
   "cell_type": "markdown",
   "metadata": {},
   "source": [
    "1. Максимальное число обзоров получила книга с id 948 и названием `Twilight (Twilight #1)` - целых 7. 6 обзоров получило уже значительно бОльшее число книг\n",
    "2. Однако книги с большим числом оценок далеко не всегда имеют высокие оценки. Так, первые 5 позиций получили среднюю оценку меншье 4 "
   ]
  },
  {
   "cell_type": "markdown",
   "metadata": {},
   "source": [
    "#### Прверка"
   ]
  },
  {
   "cell_type": "code",
   "execution_count": 20,
   "metadata": {},
   "outputs": [
    {
     "data": {
      "text/html": [
       "<div>\n",
       "<style scoped>\n",
       "    .dataframe tbody tr th:only-of-type {\n",
       "        vertical-align: middle;\n",
       "    }\n",
       "\n",
       "    .dataframe tbody tr th {\n",
       "        vertical-align: top;\n",
       "    }\n",
       "\n",
       "    .dataframe thead th {\n",
       "        text-align: right;\n",
       "    }\n",
       "</style>\n",
       "<table border=\"1\" class=\"dataframe\">\n",
       "  <thead>\n",
       "    <tr style=\"text-align: right;\">\n",
       "      <th></th>\n",
       "      <th>count</th>\n",
       "    </tr>\n",
       "  </thead>\n",
       "  <tbody>\n",
       "    <tr>\n",
       "      <td>0</td>\n",
       "      <td>1000</td>\n",
       "    </tr>\n",
       "  </tbody>\n",
       "</table>\n",
       "</div>"
      ],
      "text/plain": [
       "   count\n",
       "0   1000"
      ]
     },
     "execution_count": 20,
     "metadata": {},
     "output_type": "execute_result"
    }
   ],
   "source": [
    "sql = '''\n",
    "WITH new_reviews AS\n",
    "  (SELECT t1.book_id,\n",
    "          count(t1.review_id) AS reviews_count\n",
    "   FROM reviews t1\n",
    "   GROUP BY t1.book_id),\n",
    "     new_ratings AS\n",
    "  (SELECT t2.book_id,\n",
    "          round(avg(t2.rating), 2) AS rating_avg\n",
    "   FROM ratings t2\n",
    "   GROUP BY t2.book_id),\n",
    "     ratings_reviews AS\n",
    "  (SELECT t3.book_id,\n",
    "          t3.rating_avg,\n",
    "          t4.reviews_count\n",
    "   FROM (new_ratings t3\n",
    "         LEFT JOIN new_reviews t4 ON t3.book_id = t4.book_id)),\n",
    "     final_tab AS\n",
    "  (SELECT t5.book_id,\n",
    "          t5.title,\n",
    "          t6.reviews_count,\n",
    "          t6.rating_avg\n",
    "   FROM (books t5\n",
    "         LEFT JOIN ratings_reviews t6 ON t5.book_id = t6.book_id))\n",
    "SELECT count(t.book_id)\n",
    "FROM final_tab t\n",
    "'''\n",
    "select(sql)"
   ]
  },
  {
   "cell_type": "markdown",
   "metadata": {},
   "source": [
    "Все книги попали в итоговую таблицу"
   ]
  },
  {
   "cell_type": "code",
   "execution_count": 21,
   "metadata": {},
   "outputs": [
    {
     "data": {
      "text/html": [
       "<div>\n",
       "<style scoped>\n",
       "    .dataframe tbody tr th:only-of-type {\n",
       "        vertical-align: middle;\n",
       "    }\n",
       "\n",
       "    .dataframe tbody tr th {\n",
       "        vertical-align: top;\n",
       "    }\n",
       "\n",
       "    .dataframe thead th {\n",
       "        text-align: right;\n",
       "    }\n",
       "</style>\n",
       "<table border=\"1\" class=\"dataframe\">\n",
       "  <thead>\n",
       "    <tr style=\"text-align: right;\">\n",
       "      <th></th>\n",
       "      <th>count</th>\n",
       "    </tr>\n",
       "  </thead>\n",
       "  <tbody>\n",
       "    <tr>\n",
       "      <td>0</td>\n",
       "      <td>6</td>\n",
       "    </tr>\n",
       "  </tbody>\n",
       "</table>\n",
       "</div>"
      ],
      "text/plain": [
       "   count\n",
       "0      6"
      ]
     },
     "execution_count": 21,
     "metadata": {},
     "output_type": "execute_result"
    }
   ],
   "source": [
    "select(sql + 'where t.reviews_count is null')"
   ]
  },
  {
   "cell_type": "markdown",
   "metadata": {},
   "source": [
    "При этом как и предполагалось, 6 книг остались без обзоров"
   ]
  },
  {
   "cell_type": "markdown",
   "metadata": {},
   "source": [
    "#### Вывод"
   ]
  },
  {
   "cell_type": "markdown",
   "metadata": {},
   "source": [
    "1. Максимальное число обзоров получила книга с id 948 и названием `Twilight (Twilight #1)` - целых 7. 6 обзоров получило уже значительно бОльшее число книг\n",
    "2. Однако книги с большим числом оценок далеко не всегда имеют высокие оценки. Так, первые 5 позиций получили среднюю оценку меншье 4 "
   ]
  },
  {
   "cell_type": "markdown",
   "metadata": {},
   "source": [
    "### Издательство с наибольшим числом книг"
   ]
  },
  {
   "cell_type": "markdown",
   "metadata": {},
   "source": [
    "Определите издательство, которое выпустило наибольшее число книг толще 50 страниц — так вы исключите из анализа брошюры"
   ]
  },
  {
   "cell_type": "markdown",
   "metadata": {},
   "source": [
    "**Какие данные нам понадобятся:**\n",
    "1. `publishers.publisher_id`\n",
    "2. `publishers.publisher`\n",
    "3. `books.num_pages`\n",
    "4. `books.publisher_id`\n",
    "5. `books.book_id`\n",
    "\n",
    "**Структура будущей таблицы:**\n",
    "1. `publishers.publisher_id`\n",
    "2. `publishers.publisher`\n",
    "3. `books.books_count`\n",
    "\n",
    "**Последовательность объединений таблиц:**\n",
    "1. `books` - `publishers` -> `books_by_publisher`"
   ]
  },
  {
   "cell_type": "markdown",
   "metadata": {},
   "source": [
    "#### Подготовка к решению"
   ]
  },
  {
   "cell_type": "markdown",
   "metadata": {},
   "source": [
    "**1. Найдем число книг, опубликованных в каждом издании, у которых больше 50 страниц**"
   ]
  },
  {
   "cell_type": "code",
   "execution_count": 22,
   "metadata": {},
   "outputs": [
    {
     "data": {
      "text/html": [
       "<div>\n",
       "<style scoped>\n",
       "    .dataframe tbody tr th:only-of-type {\n",
       "        vertical-align: middle;\n",
       "    }\n",
       "\n",
       "    .dataframe tbody tr th {\n",
       "        vertical-align: top;\n",
       "    }\n",
       "\n",
       "    .dataframe thead th {\n",
       "        text-align: right;\n",
       "    }\n",
       "</style>\n",
       "<table border=\"1\" class=\"dataframe\">\n",
       "  <thead>\n",
       "    <tr style=\"text-align: right;\">\n",
       "      <th></th>\n",
       "      <th>publisher_id</th>\n",
       "      <th>books_count</th>\n",
       "    </tr>\n",
       "  </thead>\n",
       "  <tbody>\n",
       "    <tr>\n",
       "      <td>0</td>\n",
       "      <td>87</td>\n",
       "      <td>1</td>\n",
       "    </tr>\n",
       "    <tr>\n",
       "      <td>1</td>\n",
       "      <td>184</td>\n",
       "      <td>1</td>\n",
       "    </tr>\n",
       "    <tr>\n",
       "      <td>2</td>\n",
       "      <td>116</td>\n",
       "      <td>25</td>\n",
       "    </tr>\n",
       "    <tr>\n",
       "      <td>3</td>\n",
       "      <td>273</td>\n",
       "      <td>1</td>\n",
       "    </tr>\n",
       "    <tr>\n",
       "      <td>4</td>\n",
       "      <td>51</td>\n",
       "      <td>2</td>\n",
       "    </tr>\n",
       "  </tbody>\n",
       "</table>\n",
       "</div>"
      ],
      "text/plain": [
       "   publisher_id  books_count\n",
       "0            87            1\n",
       "1           184            1\n",
       "2           116           25\n",
       "3           273            1\n",
       "4            51            2"
      ]
     },
     "execution_count": 22,
     "metadata": {},
     "output_type": "execute_result"
    }
   ],
   "source": [
    "sql = '''\n",
    "SELECT t1.publisher_id,\n",
    "       count(t1.book_id) AS books_count\n",
    "FROM books t1\n",
    "WHERE t1.num_pages > 50\n",
    "GROUP BY t1.publisher_id\n",
    "'''\n",
    "select(sql + 'LIMIT 5')"
   ]
  },
  {
   "cell_type": "markdown",
   "metadata": {},
   "source": [
    "#### Решение"
   ]
  },
  {
   "cell_type": "code",
   "execution_count": 25,
   "metadata": {},
   "outputs": [
    {
     "data": {
      "text/html": [
       "<div>\n",
       "<style scoped>\n",
       "    .dataframe tbody tr th:only-of-type {\n",
       "        vertical-align: middle;\n",
       "    }\n",
       "\n",
       "    .dataframe tbody tr th {\n",
       "        vertical-align: top;\n",
       "    }\n",
       "\n",
       "    .dataframe thead th {\n",
       "        text-align: right;\n",
       "    }\n",
       "</style>\n",
       "<table border=\"1\" class=\"dataframe\">\n",
       "  <thead>\n",
       "    <tr style=\"text-align: right;\">\n",
       "      <th></th>\n",
       "      <th>publisher_id</th>\n",
       "      <th>publisher</th>\n",
       "      <th>books_count</th>\n",
       "    </tr>\n",
       "  </thead>\n",
       "  <tbody>\n",
       "    <tr>\n",
       "      <td>0</td>\n",
       "      <td>212</td>\n",
       "      <td>Penguin Books</td>\n",
       "      <td>42</td>\n",
       "    </tr>\n",
       "    <tr>\n",
       "      <td>1</td>\n",
       "      <td>309</td>\n",
       "      <td>Vintage</td>\n",
       "      <td>31</td>\n",
       "    </tr>\n",
       "    <tr>\n",
       "      <td>2</td>\n",
       "      <td>116</td>\n",
       "      <td>Grand Central Publishing</td>\n",
       "      <td>25</td>\n",
       "    </tr>\n",
       "    <tr>\n",
       "      <td>3</td>\n",
       "      <td>217</td>\n",
       "      <td>Penguin Classics</td>\n",
       "      <td>24</td>\n",
       "    </tr>\n",
       "    <tr>\n",
       "      <td>4</td>\n",
       "      <td>35</td>\n",
       "      <td>Bantam</td>\n",
       "      <td>19</td>\n",
       "    </tr>\n",
       "  </tbody>\n",
       "</table>\n",
       "</div>"
      ],
      "text/plain": [
       "   publisher_id                 publisher  books_count\n",
       "0           212             Penguin Books           42\n",
       "1           309                   Vintage           31\n",
       "2           116  Grand Central Publishing           25\n",
       "3           217          Penguin Classics           24\n",
       "4            35                    Bantam           19"
      ]
     },
     "execution_count": 25,
     "metadata": {},
     "output_type": "execute_result"
    }
   ],
   "source": [
    "task_3 = '''\n",
    "WITH books_by_publisher AS\n",
    "  (SELECT t1.publisher_id,\n",
    "          count(t1.book_id) AS books_count\n",
    "   FROM books t1\n",
    "   WHERE t1.num_pages > 50\n",
    "   GROUP BY t1.publisher_id)\n",
    "SELECT t2.publisher_id,\n",
    "       t2.publisher,\n",
    "       t3.books_count\n",
    "FROM (publishers t2\n",
    "      LEFT JOIN books_by_publisher t3 ON t2.publisher_id = t3.publisher_id)\n",
    "'''\n",
    "\n",
    "output_cond = '''\n",
    "WHERE t3.books_count IS NOT NULL\n",
    "ORDER BY t3.books_count DESC\n",
    "LIMIT 5\n",
    "'''\n",
    "select(task_3 + output_cond)"
   ]
  },
  {
   "cell_type": "markdown",
   "metadata": {},
   "source": [
    "1. Наибольшее число опубликованных книг наблюдается у издательства `Penguin Books\t`\n",
    "2. Отметим, что некоторые издания остались \"без книг\", т.к. все книги в них "
   ]
  },
  {
   "cell_type": "markdown",
   "metadata": {},
   "source": [
    "#### Проверка изданий \"без книг\""
   ]
  },
  {
   "cell_type": "code",
   "execution_count": 26,
   "metadata": {},
   "outputs": [
    {
     "data": {
      "text/html": [
       "<div>\n",
       "<style scoped>\n",
       "    .dataframe tbody tr th:only-of-type {\n",
       "        vertical-align: middle;\n",
       "    }\n",
       "\n",
       "    .dataframe tbody tr th {\n",
       "        vertical-align: top;\n",
       "    }\n",
       "\n",
       "    .dataframe thead th {\n",
       "        text-align: right;\n",
       "    }\n",
       "</style>\n",
       "<table border=\"1\" class=\"dataframe\">\n",
       "  <thead>\n",
       "    <tr style=\"text-align: right;\">\n",
       "      <th></th>\n",
       "      <th>publisher_id</th>\n",
       "      <th>publisher</th>\n",
       "      <th>books_count</th>\n",
       "    </tr>\n",
       "  </thead>\n",
       "  <tbody>\n",
       "    <tr>\n",
       "      <td>0</td>\n",
       "      <td>270</td>\n",
       "      <td>Simon &amp; Schuster Childrens Books</td>\n",
       "      <td>None</td>\n",
       "    </tr>\n",
       "    <tr>\n",
       "      <td>1</td>\n",
       "      <td>25</td>\n",
       "      <td>Atheneum Books for Young Readers</td>\n",
       "      <td>None</td>\n",
       "    </tr>\n",
       "    <tr>\n",
       "      <td>2</td>\n",
       "      <td>288</td>\n",
       "      <td>Tanglewood</td>\n",
       "      <td>None</td>\n",
       "    </tr>\n",
       "    <tr>\n",
       "      <td>3</td>\n",
       "      <td>112</td>\n",
       "      <td>Golden Books</td>\n",
       "      <td>None</td>\n",
       "    </tr>\n",
       "    <tr>\n",
       "      <td>4</td>\n",
       "      <td>113</td>\n",
       "      <td>Golden/Disney</td>\n",
       "      <td>None</td>\n",
       "    </tr>\n",
       "    <tr>\n",
       "      <td>5</td>\n",
       "      <td>55</td>\n",
       "      <td>Brilliance Audio</td>\n",
       "      <td>None</td>\n",
       "    </tr>\n",
       "  </tbody>\n",
       "</table>\n",
       "</div>"
      ],
      "text/plain": [
       "   publisher_id                         publisher books_count\n",
       "0           270  Simon & Schuster Childrens Books        None\n",
       "1            25  Atheneum Books for Young Readers        None\n",
       "2           288                        Tanglewood        None\n",
       "3           112                      Golden Books        None\n",
       "4           113                     Golden/Disney        None\n",
       "5            55                  Brilliance Audio        None"
      ]
     },
     "execution_count": 26,
     "metadata": {},
     "output_type": "execute_result"
    }
   ],
   "source": [
    "select(task_3 + 'where t3.books_count is null')"
   ]
  },
  {
   "cell_type": "code",
   "execution_count": 27,
   "metadata": {
    "scrolled": true
   },
   "outputs": [
    {
     "data": {
      "text/html": [
       "<div>\n",
       "<style scoped>\n",
       "    .dataframe tbody tr th:only-of-type {\n",
       "        vertical-align: middle;\n",
       "    }\n",
       "\n",
       "    .dataframe tbody tr th {\n",
       "        vertical-align: top;\n",
       "    }\n",
       "\n",
       "    .dataframe thead th {\n",
       "        text-align: right;\n",
       "    }\n",
       "</style>\n",
       "<table border=\"1\" class=\"dataframe\">\n",
       "  <thead>\n",
       "    <tr style=\"text-align: right;\">\n",
       "      <th></th>\n",
       "      <th>max</th>\n",
       "    </tr>\n",
       "  </thead>\n",
       "  <tbody>\n",
       "    <tr>\n",
       "      <td>0</td>\n",
       "      <td>14</td>\n",
       "    </tr>\n",
       "  </tbody>\n",
       "</table>\n",
       "</div>"
      ],
      "text/plain": [
       "   max\n",
       "0   14"
      ]
     },
     "execution_count": 27,
     "metadata": {},
     "output_type": "execute_result"
    }
   ],
   "source": [
    "sql='''\n",
    "SELECT max(t.num_pages)\n",
    "FROM books t\n",
    "WHERE t.publisher_id = 270\n",
    "'''\n",
    "select(sql)"
   ]
  },
  {
   "cell_type": "markdown",
   "metadata": {},
   "source": [
    "Как видно из тестовой проверки, самая \"толстая\" книга у издания с id 270 - всего 14 страниц. Значит отбор данных произошел корректно"
   ]
  },
  {
   "cell_type": "markdown",
   "metadata": {},
   "source": [
    "#### Вывод"
   ]
  },
  {
   "cell_type": "markdown",
   "metadata": {},
   "source": [
    "1. Наибольшее число опубликованных книг наблюдается у издательства `Penguin Books\t`\n",
    "2. Отметим, что некоторые издания остались \"без книг\", т.к. все книги в них "
   ]
  },
  {
   "cell_type": "markdown",
   "metadata": {},
   "source": [
    "### Автор с самой высокой средней оценкой"
   ]
  },
  {
   "cell_type": "markdown",
   "metadata": {},
   "source": [
    "Определите автора с самой высокой средней оценкой книг — учитывайте только книги с 50 и более оценками"
   ]
  },
  {
   "cell_type": "markdown",
   "metadata": {},
   "source": [
    "**Какие данные нам понадобятся:**\n",
    "1. `authors.author_id`\n",
    "2. `authors.author`\n",
    "3. `ratings.rating`\n",
    "4. `ratings.book_id`\n",
    "5. `ratings.rating_id`\n",
    "5. `books.book_id`\n",
    "6. `books.author_id`\n",
    "\n",
    "**Структура будущей таблицы:**\n",
    "1. `authors.author_id`\n",
    "2. `authors.author`\n",
    "3. `books_rating.avg_author_rating`\n",
    "\n",
    "**Последовательность объединений таблиц:**\n",
    "1. `books` (t1) - `ratings` (t2) -> `books_rating` (t3)\n",
    "2. `authors` - `books_rating`"
   ]
  },
  {
   "cell_type": "markdown",
   "metadata": {},
   "source": [
    "#### Подготовка к решению"
   ]
  },
  {
   "cell_type": "markdown",
   "metadata": {},
   "source": [
    "**1. Найдем число оценок на каждую книгу**"
   ]
  },
  {
   "cell_type": "code",
   "execution_count": 28,
   "metadata": {},
   "outputs": [
    {
     "data": {
      "text/html": [
       "<div>\n",
       "<style scoped>\n",
       "    .dataframe tbody tr th:only-of-type {\n",
       "        vertical-align: middle;\n",
       "    }\n",
       "\n",
       "    .dataframe tbody tr th {\n",
       "        vertical-align: top;\n",
       "    }\n",
       "\n",
       "    .dataframe thead th {\n",
       "        text-align: right;\n",
       "    }\n",
       "</style>\n",
       "<table border=\"1\" class=\"dataframe\">\n",
       "  <thead>\n",
       "    <tr style=\"text-align: right;\">\n",
       "      <th></th>\n",
       "      <th>book_id</th>\n",
       "      <th>rating_count</th>\n",
       "    </tr>\n",
       "  </thead>\n",
       "  <tbody>\n",
       "    <tr>\n",
       "      <td>0</td>\n",
       "      <td>75</td>\n",
       "      <td>84</td>\n",
       "    </tr>\n",
       "    <tr>\n",
       "      <td>1</td>\n",
       "      <td>750</td>\n",
       "      <td>88</td>\n",
       "    </tr>\n",
       "    <tr>\n",
       "      <td>2</td>\n",
       "      <td>545</td>\n",
       "      <td>66</td>\n",
       "    </tr>\n",
       "    <tr>\n",
       "      <td>3</td>\n",
       "      <td>948</td>\n",
       "      <td>160</td>\n",
       "    </tr>\n",
       "    <tr>\n",
       "      <td>4</td>\n",
       "      <td>488</td>\n",
       "      <td>61</td>\n",
       "    </tr>\n",
       "  </tbody>\n",
       "</table>\n",
       "</div>"
      ],
      "text/plain": [
       "   book_id  rating_count\n",
       "0       75            84\n",
       "1      750            88\n",
       "2      545            66\n",
       "3      948           160\n",
       "4      488            61"
      ]
     },
     "execution_count": 28,
     "metadata": {},
     "output_type": "execute_result"
    }
   ],
   "source": [
    "sql = '''\n",
    "SELECT t.book_id,\n",
    "       count(t.rating_id) AS rating_count\n",
    "FROM ratings t\n",
    "GROUP BY t.book_id\n",
    "HAVING count(t.rating_id) >= 50\n",
    "'''\n",
    "select(sql + 'limit 5')"
   ]
  },
  {
   "cell_type": "markdown",
   "metadata": {},
   "source": [
    "**2. Посмотрим, сколько всего книг имеют более 50 оценок**"
   ]
  },
  {
   "cell_type": "code",
   "execution_count": 29,
   "metadata": {},
   "outputs": [
    {
     "data": {
      "text/html": [
       "<div>\n",
       "<style scoped>\n",
       "    .dataframe tbody tr th:only-of-type {\n",
       "        vertical-align: middle;\n",
       "    }\n",
       "\n",
       "    .dataframe tbody tr th {\n",
       "        vertical-align: top;\n",
       "    }\n",
       "\n",
       "    .dataframe thead th {\n",
       "        text-align: right;\n",
       "    }\n",
       "</style>\n",
       "<table border=\"1\" class=\"dataframe\">\n",
       "  <thead>\n",
       "    <tr style=\"text-align: right;\">\n",
       "      <th></th>\n",
       "      <th>count</th>\n",
       "    </tr>\n",
       "  </thead>\n",
       "  <tbody>\n",
       "    <tr>\n",
       "      <td>0</td>\n",
       "      <td>19</td>\n",
       "    </tr>\n",
       "  </tbody>\n",
       "</table>\n",
       "</div>"
      ],
      "text/plain": [
       "   count\n",
       "0     19"
      ]
     },
     "execution_count": 29,
     "metadata": {},
     "output_type": "execute_result"
    }
   ],
   "source": [
    "sql = '''\n",
    "WITH books_50 AS\n",
    "  (SELECT t.book_id,\n",
    "          count(t.rating_id) AS rating_count\n",
    "   FROM ratings t\n",
    "   GROUP BY t.book_id\n",
    "   HAVING count(t.rating_id) >= 50)\n",
    "SELECT count(t.book_id)\n",
    "FROM books_50 t\n",
    "'''\n",
    "select(sql)"
   ]
  },
  {
   "cell_type": "markdown",
   "metadata": {},
   "source": [
    "**3. Выведем таблицу со всеми оценками попавших в выборку книг**"
   ]
  },
  {
   "cell_type": "code",
   "execution_count": 30,
   "metadata": {},
   "outputs": [
    {
     "data": {
      "text/html": [
       "<div>\n",
       "<style scoped>\n",
       "    .dataframe tbody tr th:only-of-type {\n",
       "        vertical-align: middle;\n",
       "    }\n",
       "\n",
       "    .dataframe tbody tr th {\n",
       "        vertical-align: top;\n",
       "    }\n",
       "\n",
       "    .dataframe thead th {\n",
       "        text-align: right;\n",
       "    }\n",
       "</style>\n",
       "<table border=\"1\" class=\"dataframe\">\n",
       "  <thead>\n",
       "    <tr style=\"text-align: right;\">\n",
       "      <th></th>\n",
       "      <th>book_id</th>\n",
       "      <th>rating</th>\n",
       "    </tr>\n",
       "  </thead>\n",
       "  <tbody>\n",
       "    <tr>\n",
       "      <td>0</td>\n",
       "      <td>75</td>\n",
       "      <td>5</td>\n",
       "    </tr>\n",
       "    <tr>\n",
       "      <td>1</td>\n",
       "      <td>75</td>\n",
       "      <td>4</td>\n",
       "    </tr>\n",
       "    <tr>\n",
       "      <td>2</td>\n",
       "      <td>75</td>\n",
       "      <td>4</td>\n",
       "    </tr>\n",
       "    <tr>\n",
       "      <td>3</td>\n",
       "      <td>75</td>\n",
       "      <td>4</td>\n",
       "    </tr>\n",
       "    <tr>\n",
       "      <td>4</td>\n",
       "      <td>75</td>\n",
       "      <td>4</td>\n",
       "    </tr>\n",
       "    <tr>\n",
       "      <td>5</td>\n",
       "      <td>75</td>\n",
       "      <td>4</td>\n",
       "    </tr>\n",
       "    <tr>\n",
       "      <td>6</td>\n",
       "      <td>75</td>\n",
       "      <td>5</td>\n",
       "    </tr>\n",
       "    <tr>\n",
       "      <td>7</td>\n",
       "      <td>75</td>\n",
       "      <td>2</td>\n",
       "    </tr>\n",
       "    <tr>\n",
       "      <td>8</td>\n",
       "      <td>75</td>\n",
       "      <td>3</td>\n",
       "    </tr>\n",
       "    <tr>\n",
       "      <td>9</td>\n",
       "      <td>75</td>\n",
       "      <td>3</td>\n",
       "    </tr>\n",
       "  </tbody>\n",
       "</table>\n",
       "</div>"
      ],
      "text/plain": [
       "   book_id  rating\n",
       "0       75       5\n",
       "1       75       4\n",
       "2       75       4\n",
       "3       75       4\n",
       "4       75       4\n",
       "5       75       4\n",
       "6       75       5\n",
       "7       75       2\n",
       "8       75       3\n",
       "9       75       3"
      ]
     },
     "execution_count": 30,
     "metadata": {},
     "output_type": "execute_result"
    }
   ],
   "source": [
    "sql = '''\n",
    "WITH books_50 AS\n",
    "  (SELECT t.book_id,\n",
    "          count(t.rating_id) AS rating_count\n",
    "   FROM ratings t\n",
    "   GROUP BY t.book_id\n",
    "   HAVING count(t.rating_id) >= 50)\n",
    "SELECT t2.book_id,\n",
    "       t2.rating\n",
    "FROM (books_50 t1\n",
    "      LEFT JOIN ratings t2 ON t1.book_id = t2.book_id)\n",
    "'''\n",
    "select(sql + 'LIMIT 10')"
   ]
  },
  {
   "cell_type": "markdown",
   "metadata": {},
   "source": [
    "**4. Найдем среднюю оценку всех книг, сгруппированных по автору**"
   ]
  },
  {
   "cell_type": "code",
   "execution_count": 31,
   "metadata": {},
   "outputs": [
    {
     "data": {
      "text/html": [
       "<div>\n",
       "<style scoped>\n",
       "    .dataframe tbody tr th:only-of-type {\n",
       "        vertical-align: middle;\n",
       "    }\n",
       "\n",
       "    .dataframe tbody tr th {\n",
       "        vertical-align: top;\n",
       "    }\n",
       "\n",
       "    .dataframe thead th {\n",
       "        text-align: right;\n",
       "    }\n",
       "</style>\n",
       "<table border=\"1\" class=\"dataframe\">\n",
       "  <thead>\n",
       "    <tr style=\"text-align: right;\">\n",
       "      <th></th>\n",
       "      <th>author_id</th>\n",
       "      <th>author_rating_count</th>\n",
       "      <th>author_avg_rating</th>\n",
       "    </tr>\n",
       "  </thead>\n",
       "  <tbody>\n",
       "    <tr>\n",
       "      <td>0</td>\n",
       "      <td>554</td>\n",
       "      <td>160</td>\n",
       "      <td>3.662500</td>\n",
       "    </tr>\n",
       "    <tr>\n",
       "      <td>1</td>\n",
       "      <td>630</td>\n",
       "      <td>66</td>\n",
       "      <td>3.787879</td>\n",
       "    </tr>\n",
       "    <tr>\n",
       "      <td>2</td>\n",
       "      <td>498</td>\n",
       "      <td>62</td>\n",
       "      <td>4.080645</td>\n",
       "    </tr>\n",
       "    <tr>\n",
       "      <td>3</td>\n",
       "      <td>469</td>\n",
       "      <td>57</td>\n",
       "      <td>3.789474</td>\n",
       "    </tr>\n",
       "    <tr>\n",
       "      <td>4</td>\n",
       "      <td>236</td>\n",
       "      <td>310</td>\n",
       "      <td>4.287097</td>\n",
       "    </tr>\n",
       "    <tr>\n",
       "      <td>5</td>\n",
       "      <td>311</td>\n",
       "      <td>61</td>\n",
       "      <td>3.622951</td>\n",
       "    </tr>\n",
       "    <tr>\n",
       "      <td>6</td>\n",
       "      <td>240</td>\n",
       "      <td>162</td>\n",
       "      <td>4.246914</td>\n",
       "    </tr>\n",
       "    <tr>\n",
       "      <td>7</td>\n",
       "      <td>402</td>\n",
       "      <td>53</td>\n",
       "      <td>4.264151</td>\n",
       "    </tr>\n",
       "    <tr>\n",
       "      <td>8</td>\n",
       "      <td>195</td>\n",
       "      <td>74</td>\n",
       "      <td>3.729730</td>\n",
       "    </tr>\n",
       "    <tr>\n",
       "      <td>9</td>\n",
       "      <td>372</td>\n",
       "      <td>56</td>\n",
       "      <td>3.750000</td>\n",
       "    </tr>\n",
       "    <tr>\n",
       "      <td>10</td>\n",
       "      <td>621</td>\n",
       "      <td>71</td>\n",
       "      <td>3.901408</td>\n",
       "    </tr>\n",
       "    <tr>\n",
       "      <td>11</td>\n",
       "      <td>106</td>\n",
       "      <td>143</td>\n",
       "      <td>3.741259</td>\n",
       "    </tr>\n",
       "    <tr>\n",
       "      <td>12</td>\n",
       "      <td>235</td>\n",
       "      <td>86</td>\n",
       "      <td>3.825581</td>\n",
       "    </tr>\n",
       "    <tr>\n",
       "      <td>13</td>\n",
       "      <td>376</td>\n",
       "      <td>52</td>\n",
       "      <td>4.192308</td>\n",
       "    </tr>\n",
       "  </tbody>\n",
       "</table>\n",
       "</div>"
      ],
      "text/plain": [
       "    author_id  author_rating_count  author_avg_rating\n",
       "0         554                  160           3.662500\n",
       "1         630                   66           3.787879\n",
       "2         498                   62           4.080645\n",
       "3         469                   57           3.789474\n",
       "4         236                  310           4.287097\n",
       "5         311                   61           3.622951\n",
       "6         240                  162           4.246914\n",
       "7         402                   53           4.264151\n",
       "8         195                   74           3.729730\n",
       "9         372                   56           3.750000\n",
       "10        621                   71           3.901408\n",
       "11        106                  143           3.741259\n",
       "12        235                   86           3.825581\n",
       "13        376                   52           4.192308"
      ]
     },
     "execution_count": 31,
     "metadata": {},
     "output_type": "execute_result"
    }
   ],
   "source": [
    "sql = '''\n",
    "WITH books_50 AS\n",
    "  (SELECT t.book_id,\n",
    "          count(t.rating_id) AS rating_count\n",
    "   FROM ratings t\n",
    "   GROUP BY t.book_id\n",
    "   HAVING count(t.rating_id) >= 50),\n",
    "     books_50_rating AS\n",
    "  (SELECT t2.book_id,\n",
    "          t2.rating\n",
    "   FROM (books_50 t1\n",
    "         INNER JOIN ratings t2 ON t1.book_id = t2.book_id))\n",
    "SELECT t3.author_id,\n",
    "       count(t4.rating) AS author_rating_count,\n",
    "       avg(t4.rating) AS author_avg_rating\n",
    "FROM (books t3\n",
    "      INNER JOIN books_50_rating t4 ON t3.book_id = t4.book_id)\n",
    "GROUP BY t3.author_id\n",
    "'''\n",
    "select(sql)"
   ]
  },
  {
   "cell_type": "markdown",
   "metadata": {},
   "source": [
    "#### Решение"
   ]
  },
  {
   "cell_type": "code",
   "execution_count": 32,
   "metadata": {},
   "outputs": [
    {
     "data": {
      "text/html": [
       "<div>\n",
       "<style scoped>\n",
       "    .dataframe tbody tr th:only-of-type {\n",
       "        vertical-align: middle;\n",
       "    }\n",
       "\n",
       "    .dataframe tbody tr th {\n",
       "        vertical-align: top;\n",
       "    }\n",
       "\n",
       "    .dataframe thead th {\n",
       "        text-align: right;\n",
       "    }\n",
       "</style>\n",
       "<table border=\"1\" class=\"dataframe\">\n",
       "  <thead>\n",
       "    <tr style=\"text-align: right;\">\n",
       "      <th></th>\n",
       "      <th>author_id</th>\n",
       "      <th>author</th>\n",
       "      <th>author_avg_rating</th>\n",
       "    </tr>\n",
       "  </thead>\n",
       "  <tbody>\n",
       "    <tr>\n",
       "      <td>0</td>\n",
       "      <td>236</td>\n",
       "      <td>J.K. Rowling/Mary GrandPré</td>\n",
       "      <td>4.287097</td>\n",
       "    </tr>\n",
       "    <tr>\n",
       "      <td>1</td>\n",
       "      <td>402</td>\n",
       "      <td>Markus Zusak/Cao Xuân Việt Khương</td>\n",
       "      <td>4.264151</td>\n",
       "    </tr>\n",
       "    <tr>\n",
       "      <td>2</td>\n",
       "      <td>240</td>\n",
       "      <td>J.R.R. Tolkien</td>\n",
       "      <td>4.246914</td>\n",
       "    </tr>\n",
       "    <tr>\n",
       "      <td>3</td>\n",
       "      <td>376</td>\n",
       "      <td>Louisa May Alcott</td>\n",
       "      <td>4.192308</td>\n",
       "    </tr>\n",
       "    <tr>\n",
       "      <td>4</td>\n",
       "      <td>498</td>\n",
       "      <td>Rick Riordan</td>\n",
       "      <td>4.080645</td>\n",
       "    </tr>\n",
       "  </tbody>\n",
       "</table>\n",
       "</div>"
      ],
      "text/plain": [
       "   author_id                             author  author_avg_rating\n",
       "0        236         J.K. Rowling/Mary GrandPré           4.287097\n",
       "1        402  Markus Zusak/Cao Xuân Việt Khương           4.264151\n",
       "2        240                     J.R.R. Tolkien           4.246914\n",
       "3        376                  Louisa May Alcott           4.192308\n",
       "4        498                       Rick Riordan           4.080645"
      ]
     },
     "execution_count": 32,
     "metadata": {},
     "output_type": "execute_result"
    }
   ],
   "source": [
    "task_4 = '''\n",
    "WITH books_50 AS\n",
    "  (SELECT t.book_id,\n",
    "          count(t.rating_id) AS rating_count\n",
    "   FROM ratings t\n",
    "   GROUP BY t.book_id\n",
    "   HAVING count(t.rating_id) >= 50),\n",
    "     books_50_rating AS\n",
    "  (SELECT t2.book_id,\n",
    "          t2.rating\n",
    "   FROM (books_50 t1\n",
    "         INNER JOIN ratings t2 ON t1.book_id = t2.book_id)),\n",
    "     top_authors AS\n",
    "  (SELECT t3.author_id,\n",
    "          avg(t4.rating) AS author_avg_rating\n",
    "   FROM (books t3\n",
    "         INNER JOIN books_50_rating t4 ON t3.book_id = t4.book_id)\n",
    "   GROUP BY t3.author_id)\n",
    "SELECT t5.author_id,\n",
    "       t5.author,\n",
    "       t6.author_avg_rating\n",
    "FROM (authors t5\n",
    "      INNER JOIN top_authors t6 ON t5.author_id = t6.author_id)\n",
    "ORDER BY t6.author_avg_rating DESC\n",
    "'''\n",
    "select(task_4 + 'limit 5')"
   ]
  },
  {
   "cell_type": "markdown",
   "metadata": {},
   "source": [
    "#### Выводы"
   ]
  },
  {
   "cell_type": "markdown",
   "metadata": {},
   "source": [
    "1. Всего 19 книг имеют более 50 оценок\n",
    "2. Наибольшую среднюю оценку по всем книгам получили книги J.K. Rowling и Mary GrandPré"
   ]
  },
  {
   "cell_type": "markdown",
   "metadata": {},
   "source": [
    "### Обзоры пользователей "
   ]
  },
  {
   "cell_type": "markdown",
   "metadata": {},
   "source": [
    "Посчитайте среднее количество обзоров от пользователей, которые поставили больше 50 оценок."
   ]
  },
  {
   "cell_type": "markdown",
   "metadata": {},
   "source": [
    "**Какие данные нам понадобятся:**\n",
    "1. `ratings.rating_id`\n",
    "2. `ratings.username`\n",
    "3. `reviews.username`\n",
    "4. `reviews.review_id`\n",
    "\n",
    "**Структура будущей таблицы:**\n",
    "1. `ratings.username`\n",
    "2. `ratings.rating_count`\n",
    "3. `reviews.reviews_count`\n",
    "\n",
    "**Последовательность объединений таблиц:**\n",
    "1. `ratings` (t1) - `reviews` (t2) -> `rating_review` (t3)"
   ]
  },
  {
   "cell_type": "markdown",
   "metadata": {},
   "source": [
    "#### Подготовка к решению"
   ]
  },
  {
   "cell_type": "markdown",
   "metadata": {},
   "source": [
    "**1. Найдем пользователей с числом оценок больше 50**"
   ]
  },
  {
   "cell_type": "code",
   "execution_count": 33,
   "metadata": {},
   "outputs": [
    {
     "data": {
      "text/html": [
       "<div>\n",
       "<style scoped>\n",
       "    .dataframe tbody tr th:only-of-type {\n",
       "        vertical-align: middle;\n",
       "    }\n",
       "\n",
       "    .dataframe tbody tr th {\n",
       "        vertical-align: top;\n",
       "    }\n",
       "\n",
       "    .dataframe thead th {\n",
       "        text-align: right;\n",
       "    }\n",
       "</style>\n",
       "<table border=\"1\" class=\"dataframe\">\n",
       "  <thead>\n",
       "    <tr style=\"text-align: right;\">\n",
       "      <th></th>\n",
       "      <th>username</th>\n",
       "      <th>rating_count</th>\n",
       "    </tr>\n",
       "  </thead>\n",
       "  <tbody>\n",
       "    <tr>\n",
       "      <td>0</td>\n",
       "      <td>sfitzgerald</td>\n",
       "      <td>55</td>\n",
       "    </tr>\n",
       "    <tr>\n",
       "      <td>1</td>\n",
       "      <td>jennifermiller</td>\n",
       "      <td>53</td>\n",
       "    </tr>\n",
       "    <tr>\n",
       "      <td>2</td>\n",
       "      <td>xdavis</td>\n",
       "      <td>51</td>\n",
       "    </tr>\n",
       "    <tr>\n",
       "      <td>3</td>\n",
       "      <td>paul88</td>\n",
       "      <td>56</td>\n",
       "    </tr>\n",
       "    <tr>\n",
       "      <td>4</td>\n",
       "      <td>martinadam</td>\n",
       "      <td>56</td>\n",
       "    </tr>\n",
       "    <tr>\n",
       "      <td>5</td>\n",
       "      <td>richard89</td>\n",
       "      <td>55</td>\n",
       "    </tr>\n",
       "  </tbody>\n",
       "</table>\n",
       "</div>"
      ],
      "text/plain": [
       "         username  rating_count\n",
       "0     sfitzgerald            55\n",
       "1  jennifermiller            53\n",
       "2          xdavis            51\n",
       "3          paul88            56\n",
       "4      martinadam            56\n",
       "5       richard89            55"
      ]
     },
     "execution_count": 33,
     "metadata": {},
     "output_type": "execute_result"
    }
   ],
   "source": [
    "sql='''\n",
    "SELECT t.username,\n",
    "       count(t.rating_id) AS rating_count\n",
    "FROM ratings t\n",
    "GROUP BY t.username\n",
    "HAVING count(t.rating_id) > 50\n",
    "'''\n",
    "select(sql)"
   ]
  },
  {
   "cell_type": "markdown",
   "metadata": {},
   "source": [
    "Как видно, таких пользователей всего 6 "
   ]
  },
  {
   "cell_type": "markdown",
   "metadata": {},
   "source": [
    "**2. Найдем число обзоров каждого пользователя**"
   ]
  },
  {
   "cell_type": "code",
   "execution_count": 34,
   "metadata": {},
   "outputs": [
    {
     "data": {
      "text/html": [
       "<div>\n",
       "<style scoped>\n",
       "    .dataframe tbody tr th:only-of-type {\n",
       "        vertical-align: middle;\n",
       "    }\n",
       "\n",
       "    .dataframe tbody tr th {\n",
       "        vertical-align: top;\n",
       "    }\n",
       "\n",
       "    .dataframe thead th {\n",
       "        text-align: right;\n",
       "    }\n",
       "</style>\n",
       "<table border=\"1\" class=\"dataframe\">\n",
       "  <thead>\n",
       "    <tr style=\"text-align: right;\">\n",
       "      <th></th>\n",
       "      <th>username</th>\n",
       "      <th>review_count</th>\n",
       "    </tr>\n",
       "  </thead>\n",
       "  <tbody>\n",
       "    <tr>\n",
       "      <td>0</td>\n",
       "      <td>zjohnston</td>\n",
       "      <td>14</td>\n",
       "    </tr>\n",
       "    <tr>\n",
       "      <td>1</td>\n",
       "      <td>jnelson</td>\n",
       "      <td>21</td>\n",
       "    </tr>\n",
       "    <tr>\n",
       "      <td>2</td>\n",
       "      <td>lewisdesiree</td>\n",
       "      <td>19</td>\n",
       "    </tr>\n",
       "    <tr>\n",
       "      <td>3</td>\n",
       "      <td>patrickhudson</td>\n",
       "      <td>15</td>\n",
       "    </tr>\n",
       "    <tr>\n",
       "      <td>4</td>\n",
       "      <td>ulowe</td>\n",
       "      <td>16</td>\n",
       "    </tr>\n",
       "  </tbody>\n",
       "</table>\n",
       "</div>"
      ],
      "text/plain": [
       "        username  review_count\n",
       "0      zjohnston            14\n",
       "1        jnelson            21\n",
       "2   lewisdesiree            19\n",
       "3  patrickhudson            15\n",
       "4          ulowe            16"
      ]
     },
     "execution_count": 34,
     "metadata": {},
     "output_type": "execute_result"
    }
   ],
   "source": [
    "sql = '''\n",
    "SELECT t.username,\n",
    "       count(t.review_id) AS review_count\n",
    "FROM reviews t\n",
    "GROUP BY t.username \n",
    "'''\n",
    "select(sql + 'limit 5')"
   ]
  },
  {
   "cell_type": "markdown",
   "metadata": {},
   "source": [
    "#### Решение"
   ]
  },
  {
   "cell_type": "code",
   "execution_count": 35,
   "metadata": {},
   "outputs": [
    {
     "data": {
      "text/html": [
       "<div>\n",
       "<style scoped>\n",
       "    .dataframe tbody tr th:only-of-type {\n",
       "        vertical-align: middle;\n",
       "    }\n",
       "\n",
       "    .dataframe tbody tr th {\n",
       "        vertical-align: top;\n",
       "    }\n",
       "\n",
       "    .dataframe thead th {\n",
       "        text-align: right;\n",
       "    }\n",
       "</style>\n",
       "<table border=\"1\" class=\"dataframe\">\n",
       "  <thead>\n",
       "    <tr style=\"text-align: right;\">\n",
       "      <th></th>\n",
       "      <th>avg_review_count</th>\n",
       "    </tr>\n",
       "  </thead>\n",
       "  <tbody>\n",
       "    <tr>\n",
       "      <td>0</td>\n",
       "      <td>24.33</td>\n",
       "    </tr>\n",
       "  </tbody>\n",
       "</table>\n",
       "</div>"
      ],
      "text/plain": [
       "   avg_review_count\n",
       "0             24.33"
      ]
     },
     "execution_count": 35,
     "metadata": {},
     "output_type": "execute_result"
    }
   ],
   "source": [
    "task_5='''\n",
    "WITH new_rating AS\n",
    "  (SELECT t.username,\n",
    "          count(t.rating_id) AS rating_count\n",
    "   FROM ratings t\n",
    "   GROUP BY t.username\n",
    "   HAVING COUNT(t.rating_id) > 50),\n",
    "     FINAL AS\n",
    "  (SELECT t2.username,\n",
    "          t1.rating_count,\n",
    "          count(t2.review_id) AS review_count\n",
    "   FROM (new_rating t1\n",
    "         INNER JOIN reviews t2 ON t1.username = t2.username)\n",
    "   GROUP BY t2.username,\n",
    "            t1.rating_count)\n",
    "SELECT ROUND(AVG(t.review_count), 2) AS avg_review_count\n",
    "FROM FINAL t\n",
    "'''\n",
    "select(task_5)"
   ]
  },
  {
   "cell_type": "markdown",
   "metadata": {},
   "source": [
    "В среднем пользователи, которые поставили больше 50 оценок, написали по 24,3 обзора "
   ]
  },
  {
   "cell_type": "markdown",
   "metadata": {},
   "source": [
    "#### Проверка "
   ]
  },
  {
   "cell_type": "code",
   "execution_count": 36,
   "metadata": {},
   "outputs": [
    {
     "data": {
      "text/html": [
       "<div>\n",
       "<style scoped>\n",
       "    .dataframe tbody tr th:only-of-type {\n",
       "        vertical-align: middle;\n",
       "    }\n",
       "\n",
       "    .dataframe tbody tr th {\n",
       "        vertical-align: top;\n",
       "    }\n",
       "\n",
       "    .dataframe thead th {\n",
       "        text-align: right;\n",
       "    }\n",
       "</style>\n",
       "<table border=\"1\" class=\"dataframe\">\n",
       "  <thead>\n",
       "    <tr style=\"text-align: right;\">\n",
       "      <th></th>\n",
       "      <th>count</th>\n",
       "    </tr>\n",
       "  </thead>\n",
       "  <tbody>\n",
       "    <tr>\n",
       "      <td>0</td>\n",
       "      <td>6</td>\n",
       "    </tr>\n",
       "  </tbody>\n",
       "</table>\n",
       "</div>"
      ],
      "text/plain": [
       "   count\n",
       "0      6"
      ]
     },
     "execution_count": 36,
     "metadata": {},
     "output_type": "execute_result"
    }
   ],
   "source": [
    "sql ='''\n",
    "WITH new_rating AS\n",
    "  (SELECT t.username,\n",
    "          count(t.rating_id) AS rating_count\n",
    "   FROM ratings t\n",
    "   GROUP BY t.username\n",
    "   HAVING COUNT(t.rating_id) > 50),\n",
    "     final_tab AS\n",
    "  (SELECT t2.username,\n",
    "          t1.rating_count,\n",
    "          count(t2.review_id) AS review_count\n",
    "   FROM (new_rating t1\n",
    "         INNER JOIN reviews t2 ON t1.username = t2.username)\n",
    "   GROUP BY t2.username,\n",
    "            t1.rating_count)\n",
    "SELECT count(t.username)\n",
    "FROM final_tab t\n",
    "'''\n",
    "select(sql)"
   ]
  },
  {
   "cell_type": "markdown",
   "metadata": {},
   "source": [
    "В итогой таблице, как и ожидалось, осталось всего 6 пользователей"
   ]
  },
  {
   "cell_type": "markdown",
   "metadata": {},
   "source": [
    "#### Выводы"
   ]
  },
  {
   "cell_type": "markdown",
   "metadata": {},
   "source": [
    "1. В среднем пользователи, которые поставили больше 50 оценок, написали по 24,3 обзора\n",
    "2. Однако таких пользователей в таблице всего 6 "
   ]
  },
  {
   "cell_type": "markdown",
   "metadata": {},
   "source": [
    "## Выводы по заданиям и предложения"
   ]
  },
  {
   "cell_type": "markdown",
   "metadata": {},
   "source": [
    "### Выводы"
   ]
  },
  {
   "cell_type": "markdown",
   "metadata": {},
   "source": [
    "**Задание 1**\n",
    "\n",
    "1. После 1 января 2000 года вышло 819 книг из 1000, представленных в таблице\n",
    "\n",
    "**Задание 2**\n",
    "\n",
    "1. Максимальное число обзоров получила книга с id 948 и названием `Twilight (Twilight #1)` - целых 7. 6 обзоров получило уже значительно бОльшее число книг\n",
    "2. Однако книги с большим числом оценок далеко не всегда имеют высокие оценки. Так, первые 5 позиций получили среднюю оценку меншье 4 \n",
    "\n",
    "**Задание 3**\n",
    "\n",
    "1. Наибольшее число опубликованных книг наблюдается у издательства `Penguin Books\t`\n",
    "2. Отметим, что некоторые издания остались \"без книг\", т.к. все книги в них \n",
    "\n",
    "**Задание 4**\n",
    "\n",
    "1. Всего 19 книг имеют более 50 оценок\n",
    "2. Наибольшую среднюю оценку по всем книгам получили книги J.K. Rowling и Mary GrandPré\n",
    "\n",
    "**Задание 5**\n",
    "\n",
    "1. В среднем пользователи, которые поставили больше 50 оценок, написали по 24,3 обзора\n",
    "2. Однако таких пользователей в таблице всего 6 \n"
   ]
  },
  {
   "cell_type": "markdown",
   "metadata": {},
   "source": [
    "### Предложения"
   ]
  },
  {
   "cell_type": "markdown",
   "metadata": {},
   "source": [
    "В целом, предложения могут быть следующие: \n",
    "1. Большое количество оценок и обзоров дают более объективную оценку. Однако эта оценка далеко не всегда выоская. В рекомендательную систему стоит включать книги с достаточно большим числом обзоров и оценок, но еще и со средней оценкой чуть выше среднего \n",
    "2. Рекомендации можно выстраивать на основе совпадения издательств. Возможно, книги издательств будут иметь схожие черты и нравиться пользователю \n",
    "3. Есть авторы с книгами-бестселлерами. У них очень высокие средние оценки. Возможно, стоит акцентировать внимание на этих авторах и их книгах \n",
    "4. В базе есть супер активные пользователи, которые ставят огромное число оценок и вместе с этим пишут огромное число обзоров. Возможно на основе общности обозреваемых ими книг также можно выстраивать некоторые рекомендации "
   ]
  }
 ],
 "metadata": {
  "ExecuteTimeLog": [
   {
    "duration": 639,
    "start_time": "2021-10-26T20:35:40.168Z"
   },
   {
    "duration": 49,
    "start_time": "2021-10-26T20:36:02.194Z"
   },
   {
    "duration": 3,
    "start_time": "2021-10-26T20:36:54.665Z"
   },
   {
    "duration": 3,
    "start_time": "2021-10-26T20:37:34.078Z"
   },
   {
    "duration": 271,
    "start_time": "2021-10-26T20:37:43.070Z"
   },
   {
    "duration": 74,
    "start_time": "2021-10-26T20:37:47.046Z"
   },
   {
    "duration": 3,
    "start_time": "2021-10-26T20:39:03.925Z"
   },
   {
    "duration": 75,
    "start_time": "2021-10-26T20:39:08.904Z"
   },
   {
    "duration": 90,
    "start_time": "2021-10-26T20:41:59.731Z"
   },
   {
    "duration": 74,
    "start_time": "2021-10-26T20:42:04.542Z"
   },
   {
    "duration": 3,
    "start_time": "2021-10-26T20:42:40.756Z"
   },
   {
    "duration": 677,
    "start_time": "2021-10-26T20:42:45.876Z"
   },
   {
    "duration": 71,
    "start_time": "2021-10-26T20:42:55.805Z"
   },
   {
    "duration": 3,
    "start_time": "2021-10-26T20:45:26.407Z"
   },
   {
    "duration": 72,
    "start_time": "2021-10-26T20:45:31.716Z"
   },
   {
    "duration": 2,
    "start_time": "2021-10-26T20:48:01.843Z"
   },
   {
    "duration": 78,
    "start_time": "2021-10-26T20:48:07.183Z"
   },
   {
    "duration": 128,
    "start_time": "2021-10-26T20:50:27.644Z"
   },
   {
    "duration": 76,
    "start_time": "2021-10-26T20:50:33.449Z"
   },
   {
    "duration": 2,
    "start_time": "2021-10-26T20:51:19.321Z"
   },
   {
    "duration": 71,
    "start_time": "2021-10-26T20:51:23.450Z"
   },
   {
    "duration": 2,
    "start_time": "2021-10-26T20:53:12.271Z"
   },
   {
    "duration": 2,
    "start_time": "2021-10-26T20:53:18.571Z"
   },
   {
    "duration": 75,
    "start_time": "2021-10-26T20:53:23.807Z"
   },
   {
    "duration": 74,
    "start_time": "2021-10-26T20:54:25.978Z"
   },
   {
    "duration": 73,
    "start_time": "2021-10-26T20:54:39.520Z"
   },
   {
    "duration": 72,
    "start_time": "2021-10-26T20:56:20.003Z"
   },
   {
    "duration": 2,
    "start_time": "2021-10-26T20:59:35.199Z"
   },
   {
    "duration": 606,
    "start_time": "2021-10-26T20:59:39.623Z"
   },
   {
    "duration": 75,
    "start_time": "2021-10-26T20:59:46.159Z"
   },
   {
    "duration": 73,
    "start_time": "2021-10-26T20:59:53.021Z"
   },
   {
    "duration": 74,
    "start_time": "2021-10-26T21:02:48.617Z"
   },
   {
    "duration": 77,
    "start_time": "2021-10-26T21:28:13.022Z"
   },
   {
    "duration": 605,
    "start_time": "2021-10-26T21:28:48.496Z"
   },
   {
    "duration": 76,
    "start_time": "2021-10-26T21:29:00.605Z"
   },
   {
    "duration": 77,
    "start_time": "2021-10-26T21:29:31.109Z"
   },
   {
    "duration": 76,
    "start_time": "2021-10-26T21:29:45.641Z"
   },
   {
    "duration": 3,
    "start_time": "2021-10-26T21:38:08.228Z"
   },
   {
    "duration": 615,
    "start_time": "2021-10-26T21:38:13.846Z"
   },
   {
    "duration": 631,
    "start_time": "2021-10-26T21:38:33.014Z"
   },
   {
    "duration": 609,
    "start_time": "2021-10-26T21:39:02.773Z"
   },
   {
    "duration": 79,
    "start_time": "2021-10-26T21:39:20.561Z"
   },
   {
    "duration": 77,
    "start_time": "2021-10-26T21:41:52.797Z"
   },
   {
    "duration": 2,
    "start_time": "2021-10-26T21:44:53.313Z"
   },
   {
    "duration": 1132,
    "start_time": "2021-10-26T21:45:04.519Z"
   },
   {
    "duration": 78,
    "start_time": "2021-10-26T21:45:26.939Z"
   },
   {
    "duration": 588,
    "start_time": "2021-10-26T21:46:28.191Z"
   },
   {
    "duration": 78,
    "start_time": "2021-10-26T21:46:37.369Z"
   },
   {
    "duration": 77,
    "start_time": "2021-10-26T21:47:24.152Z"
   },
   {
    "duration": 83,
    "start_time": "2021-10-26T21:47:26.216Z"
   },
   {
    "duration": 80,
    "start_time": "2021-10-26T21:47:48.986Z"
   },
   {
    "duration": 106,
    "start_time": "2021-10-26T21:48:32.155Z"
   },
   {
    "duration": 104,
    "start_time": "2021-10-26T21:48:36.377Z"
   },
   {
    "duration": 616,
    "start_time": "2021-10-26T21:48:43.035Z"
   },
   {
    "duration": 81,
    "start_time": "2021-10-26T21:48:45.319Z"
   },
   {
    "duration": 72,
    "start_time": "2021-10-26T21:57:06.358Z"
   },
   {
    "duration": 77,
    "start_time": "2021-10-26T21:57:44.976Z"
   },
   {
    "duration": 83,
    "start_time": "2021-10-26T22:01:00.311Z"
   },
   {
    "duration": 78,
    "start_time": "2021-10-26T22:01:25.680Z"
   },
   {
    "duration": 75,
    "start_time": "2021-10-26T22:01:50.607Z"
   },
   {
    "duration": 592,
    "start_time": "2021-10-26T22:04:23.430Z"
   },
   {
    "duration": 81,
    "start_time": "2021-10-26T22:04:46.935Z"
   },
   {
    "duration": 607,
    "start_time": "2021-10-26T22:06:08.376Z"
   },
   {
    "duration": 75,
    "start_time": "2021-10-26T22:06:33.207Z"
   },
   {
    "duration": 79,
    "start_time": "2021-10-26T22:06:44.889Z"
   },
   {
    "duration": 76,
    "start_time": "2021-10-26T22:07:29.636Z"
   },
   {
    "duration": 74,
    "start_time": "2021-10-26T22:07:54.049Z"
   },
   {
    "duration": 73,
    "start_time": "2021-10-26T22:10:04.179Z"
   },
   {
    "duration": 74,
    "start_time": "2021-10-26T22:12:20.546Z"
   },
   {
    "duration": 156,
    "start_time": "2021-10-26T22:27:17.110Z"
   },
   {
    "duration": 74,
    "start_time": "2021-10-26T22:27:39.478Z"
   },
   {
    "duration": 93,
    "start_time": "2021-10-26T22:30:45.304Z"
   },
   {
    "duration": 93,
    "start_time": "2021-10-26T22:31:02.063Z"
   },
   {
    "duration": 80,
    "start_time": "2021-10-26T22:31:34.339Z"
   },
   {
    "duration": 611,
    "start_time": "2021-10-26T22:34:56.255Z"
   },
   {
    "duration": 630,
    "start_time": "2021-10-26T22:35:16.335Z"
   },
   {
    "duration": 629,
    "start_time": "2021-10-26T22:35:29.722Z"
   },
   {
    "duration": 629,
    "start_time": "2021-10-26T22:35:47.662Z"
   },
   {
    "duration": 81,
    "start_time": "2021-10-26T22:36:00.190Z"
   },
   {
    "duration": 80,
    "start_time": "2021-10-26T22:38:18.323Z"
   },
   {
    "duration": 80,
    "start_time": "2021-10-26T22:39:03.762Z"
   },
   {
    "duration": 80,
    "start_time": "2021-10-26T22:39:26.420Z"
   },
   {
    "duration": 80,
    "start_time": "2021-10-26T22:39:44.005Z"
   },
   {
    "duration": 610,
    "start_time": "2021-10-26T22:41:05.463Z"
   },
   {
    "duration": 77,
    "start_time": "2021-10-26T22:41:23.397Z"
   },
   {
    "duration": 78,
    "start_time": "2021-10-26T22:45:37.138Z"
   },
   {
    "duration": 601,
    "start_time": "2021-10-26T22:52:31.689Z"
   },
   {
    "duration": 88,
    "start_time": "2021-10-26T22:52:38.003Z"
   },
   {
    "duration": 75,
    "start_time": "2021-10-26T22:52:44.225Z"
   },
   {
    "duration": 619,
    "start_time": "2021-10-26T22:53:15.472Z"
   },
   {
    "duration": 624,
    "start_time": "2021-10-26T22:53:30.484Z"
   },
   {
    "duration": 609,
    "start_time": "2021-10-26T22:53:43.814Z"
   },
   {
    "duration": 724,
    "start_time": "2021-10-26T22:53:55.440Z"
   },
   {
    "duration": 582,
    "start_time": "2021-10-26T22:54:11.715Z"
   },
   {
    "duration": 76,
    "start_time": "2021-10-26T22:55:20.073Z"
   },
   {
    "duration": 75,
    "start_time": "2021-10-26T22:56:55.562Z"
   },
   {
    "duration": 75,
    "start_time": "2021-10-26T22:57:11.557Z"
   },
   {
    "duration": 77,
    "start_time": "2021-10-26T22:57:16.725Z"
   },
   {
    "duration": 81,
    "start_time": "2021-10-26T22:57:27.379Z"
   },
   {
    "duration": 638,
    "start_time": "2021-10-26T23:02:39.681Z"
   },
   {
    "duration": 1191,
    "start_time": "2021-10-26T23:02:58.133Z"
   },
   {
    "duration": 91,
    "start_time": "2021-10-26T23:03:17.566Z"
   },
   {
    "duration": 2,
    "start_time": "2021-10-26T23:08:17.614Z"
   },
   {
    "duration": 692,
    "start_time": "2021-10-26T23:08:22.504Z"
   },
   {
    "duration": 617,
    "start_time": "2021-10-26T23:08:31.468Z"
   },
   {
    "duration": 612,
    "start_time": "2021-10-26T23:09:23.777Z"
   },
   {
    "duration": 588,
    "start_time": "2021-10-26T23:09:35.770Z"
   },
   {
    "duration": 82,
    "start_time": "2021-10-26T23:09:51.316Z"
   },
   {
    "duration": 884,
    "start_time": "2021-10-26T23:10:29.318Z"
   },
   {
    "duration": 136,
    "start_time": "2021-10-26T23:10:50.415Z"
   },
   {
    "duration": 135,
    "start_time": "2021-10-26T23:11:40.764Z"
   },
   {
    "duration": 121,
    "start_time": "2021-10-26T23:11:49.730Z"
   },
   {
    "duration": 78,
    "start_time": "2021-10-26T23:12:42.099Z"
   },
   {
    "duration": 634,
    "start_time": "2021-10-26T23:15:55.600Z"
   },
   {
    "duration": 79,
    "start_time": "2021-10-26T23:16:14.411Z"
   },
   {
    "duration": 81,
    "start_time": "2021-10-26T23:16:27.976Z"
   },
   {
    "duration": 79,
    "start_time": "2021-10-26T23:16:34.700Z"
   },
   {
    "duration": 82,
    "start_time": "2021-10-26T23:17:02.546Z"
   },
   {
    "duration": 83,
    "start_time": "2021-10-26T23:19:24.526Z"
   },
   {
    "duration": 84,
    "start_time": "2021-10-26T23:19:32.735Z"
   },
   {
    "duration": 83,
    "start_time": "2021-10-26T23:19:40.004Z"
   },
   {
    "duration": 83,
    "start_time": "2021-10-26T23:19:45.468Z"
   },
   {
    "duration": 79,
    "start_time": "2021-10-26T23:19:57.252Z"
   },
   {
    "duration": 82,
    "start_time": "2021-10-26T23:53:07.649Z"
   },
   {
    "duration": 618,
    "start_time": "2021-10-27T00:00:33.322Z"
   },
   {
    "duration": 79,
    "start_time": "2021-10-27T00:01:00.741Z"
   },
   {
    "duration": 75,
    "start_time": "2021-10-27T00:01:22.569Z"
   },
   {
    "duration": 2,
    "start_time": "2021-10-27T00:02:17.848Z"
   },
   {
    "duration": 622,
    "start_time": "2021-10-27T00:02:22.455Z"
   },
   {
    "duration": 79,
    "start_time": "2021-10-27T00:02:48.033Z"
   },
   {
    "duration": 77,
    "start_time": "2021-10-27T00:03:18.011Z"
   },
   {
    "duration": 617,
    "start_time": "2021-10-27T00:07:52.543Z"
   },
   {
    "duration": 671,
    "start_time": "2021-10-27T00:08:00.745Z"
   },
   {
    "duration": 611,
    "start_time": "2021-10-27T00:08:13.794Z"
   },
   {
    "duration": 79,
    "start_time": "2021-10-27T00:08:29.884Z"
   },
   {
    "duration": 80,
    "start_time": "2021-10-27T00:10:02.721Z"
   },
   {
    "duration": 76,
    "start_time": "2021-10-27T00:10:13.724Z"
   },
   {
    "duration": 79,
    "start_time": "2021-10-27T00:11:15.937Z"
   },
   {
    "duration": 78,
    "start_time": "2021-10-27T00:11:37.478Z"
   },
   {
    "duration": 78,
    "start_time": "2021-10-27T00:11:52.292Z"
   },
   {
    "duration": 76,
    "start_time": "2021-10-27T00:12:11.235Z"
   },
   {
    "duration": 75,
    "start_time": "2021-10-27T00:12:27.409Z"
   },
   {
    "duration": 75,
    "start_time": "2021-10-27T00:12:38.013Z"
   },
   {
    "duration": 77,
    "start_time": "2021-10-27T00:12:49.742Z"
   },
   {
    "duration": 75,
    "start_time": "2021-10-27T00:13:03.910Z"
   },
   {
    "duration": 77,
    "start_time": "2021-10-27T00:13:21.050Z"
   },
   {
    "duration": 75,
    "start_time": "2021-10-27T00:13:32.107Z"
   },
   {
    "duration": 71,
    "start_time": "2021-10-27T00:13:42.448Z"
   },
   {
    "duration": 75,
    "start_time": "2021-10-27T00:13:55.885Z"
   },
   {
    "duration": 76,
    "start_time": "2021-10-27T00:14:08.903Z"
   },
   {
    "duration": 79,
    "start_time": "2021-10-27T00:14:20.447Z"
   },
   {
    "duration": 78,
    "start_time": "2021-10-27T00:14:45.712Z"
   },
   {
    "duration": 84,
    "start_time": "2021-10-27T00:15:14.885Z"
   },
   {
    "duration": 78,
    "start_time": "2021-10-27T00:15:29.465Z"
   },
   {
    "duration": 74,
    "start_time": "2021-10-27T00:16:21.832Z"
   },
   {
    "duration": 79,
    "start_time": "2021-10-27T00:16:32.036Z"
   },
   {
    "duration": 85,
    "start_time": "2021-10-27T00:16:39.950Z"
   },
   {
    "duration": 78,
    "start_time": "2021-10-27T00:16:51.901Z"
   },
   {
    "duration": 76,
    "start_time": "2021-10-27T00:16:58.035Z"
   },
   {
    "duration": 76,
    "start_time": "2021-10-27T00:17:15.049Z"
   },
   {
    "duration": 628,
    "start_time": "2021-10-27T00:17:43.864Z"
   },
   {
    "duration": 76,
    "start_time": "2021-10-27T00:17:52.832Z"
   },
   {
    "duration": 76,
    "start_time": "2021-10-27T00:18:13.256Z"
   },
   {
    "duration": 76,
    "start_time": "2021-10-27T00:18:24.819Z"
   },
   {
    "duration": 2,
    "start_time": "2021-10-27T00:18:35.619Z"
   },
   {
    "duration": 605,
    "start_time": "2021-10-27T00:18:43.777Z"
   },
   {
    "duration": 94,
    "start_time": "2021-10-27T00:18:57.414Z"
   },
   {
    "duration": 75,
    "start_time": "2021-10-27T00:19:04.586Z"
   },
   {
    "duration": 78,
    "start_time": "2021-10-27T00:19:11.189Z"
   },
   {
    "duration": 81,
    "start_time": "2021-10-27T00:19:29.732Z"
   },
   {
    "duration": 79,
    "start_time": "2021-10-27T00:19:46.000Z"
   },
   {
    "duration": 79,
    "start_time": "2021-10-27T00:20:17.555Z"
   },
   {
    "duration": 75,
    "start_time": "2021-10-27T00:20:26.196Z"
   },
   {
    "duration": 78,
    "start_time": "2021-10-27T00:20:51.442Z"
   },
   {
    "duration": 79,
    "start_time": "2021-10-27T00:22:02.797Z"
   },
   {
    "duration": 74,
    "start_time": "2021-10-27T00:24:30.251Z"
   },
   {
    "duration": 74,
    "start_time": "2021-10-27T00:24:38.789Z"
   },
   {
    "duration": 84,
    "start_time": "2021-10-27T00:24:59.068Z"
   },
   {
    "duration": 79,
    "start_time": "2021-10-27T00:25:02.107Z"
   },
   {
    "duration": 74,
    "start_time": "2021-10-27T00:25:32.131Z"
   },
   {
    "duration": 74,
    "start_time": "2021-10-27T00:25:47.261Z"
   },
   {
    "duration": 75,
    "start_time": "2021-10-27T00:26:11.887Z"
   },
   {
    "duration": 79,
    "start_time": "2021-10-27T00:27:09.732Z"
   },
   {
    "duration": 77,
    "start_time": "2021-10-27T00:27:18.776Z"
   },
   {
    "duration": 76,
    "start_time": "2021-10-27T00:27:35.374Z"
   },
   {
    "duration": 79,
    "start_time": "2021-10-27T00:27:55.611Z"
   },
   {
    "duration": 80,
    "start_time": "2021-10-27T00:34:11.119Z"
   },
   {
    "duration": 77,
    "start_time": "2021-10-27T00:34:39.019Z"
   },
   {
    "duration": 80,
    "start_time": "2021-10-27T00:38:07.577Z"
   },
   {
    "duration": 75,
    "start_time": "2021-10-27T00:38:29.458Z"
   },
   {
    "duration": 75,
    "start_time": "2021-10-27T00:38:40.272Z"
   },
   {
    "duration": 76,
    "start_time": "2021-10-27T00:40:51.827Z"
   },
   {
    "duration": 79,
    "start_time": "2021-10-27T00:46:53.838Z"
   },
   {
    "duration": 81,
    "start_time": "2021-10-27T00:47:00.425Z"
   },
   {
    "duration": 83,
    "start_time": "2021-10-27T00:48:16.557Z"
   },
   {
    "duration": 642,
    "start_time": "2021-10-27T01:00:57.223Z"
   },
   {
    "duration": 75,
    "start_time": "2021-10-27T01:01:03.339Z"
   },
   {
    "duration": 81,
    "start_time": "2021-10-27T01:03:46.728Z"
   },
   {
    "duration": 83,
    "start_time": "2021-10-27T01:09:24.993Z"
   },
   {
    "duration": 78,
    "start_time": "2021-10-27T01:09:34.407Z"
   },
   {
    "duration": 81,
    "start_time": "2021-10-27T01:09:39.369Z"
   },
   {
    "duration": 641,
    "start_time": "2021-10-27T01:20:24.401Z"
   },
   {
    "duration": 80,
    "start_time": "2021-10-27T01:20:30.673Z"
   },
   {
    "duration": 622,
    "start_time": "2021-10-27T01:22:30.083Z"
   },
   {
    "duration": 29,
    "start_time": "2021-10-27T01:22:30.707Z"
   },
   {
    "duration": 13,
    "start_time": "2021-10-27T01:22:30.738Z"
   },
   {
    "duration": 275,
    "start_time": "2021-10-27T01:22:30.753Z"
   },
   {
    "duration": 70,
    "start_time": "2021-10-27T01:22:31.029Z"
   },
   {
    "duration": 67,
    "start_time": "2021-10-27T01:22:31.101Z"
   },
   {
    "duration": 66,
    "start_time": "2021-10-27T01:22:31.170Z"
   },
   {
    "duration": 69,
    "start_time": "2021-10-27T01:22:31.239Z"
   },
   {
    "duration": 68,
    "start_time": "2021-10-27T01:22:31.311Z"
   },
   {
    "duration": 71,
    "start_time": "2021-10-27T01:22:31.381Z"
   },
   {
    "duration": 78,
    "start_time": "2021-10-27T01:22:31.454Z"
   },
   {
    "duration": 69,
    "start_time": "2021-10-27T01:22:31.534Z"
   },
   {
    "duration": 69,
    "start_time": "2021-10-27T01:22:31.605Z"
   },
   {
    "duration": 69,
    "start_time": "2021-10-27T01:22:31.676Z"
   },
   {
    "duration": 70,
    "start_time": "2021-10-27T01:22:31.747Z"
   },
   {
    "duration": 69,
    "start_time": "2021-10-27T01:22:31.819Z"
   },
   {
    "duration": 74,
    "start_time": "2021-10-27T01:22:31.890Z"
   },
   {
    "duration": 76,
    "start_time": "2021-10-27T01:22:31.966Z"
   },
   {
    "duration": 77,
    "start_time": "2021-10-27T01:22:32.044Z"
   },
   {
    "duration": 75,
    "start_time": "2021-10-27T01:22:32.122Z"
   },
   {
    "duration": 70,
    "start_time": "2021-10-27T01:22:32.199Z"
   },
   {
    "duration": 68,
    "start_time": "2021-10-27T01:22:32.270Z"
   },
   {
    "duration": 69,
    "start_time": "2021-10-27T01:22:32.342Z"
   },
   {
    "duration": 652,
    "start_time": "2021-10-27T01:22:32.412Z"
   },
   {
    "duration": -52,
    "start_time": "2021-10-27T01:22:33.119Z"
   },
   {
    "duration": -61,
    "start_time": "2021-10-27T01:22:33.130Z"
   },
   {
    "duration": -62,
    "start_time": "2021-10-27T01:22:33.133Z"
   },
   {
    "duration": -64,
    "start_time": "2021-10-27T01:22:33.136Z"
   },
   {
    "duration": -66,
    "start_time": "2021-10-27T01:22:33.140Z"
   },
   {
    "duration": -70,
    "start_time": "2021-10-27T01:22:33.145Z"
   },
   {
    "duration": -71,
    "start_time": "2021-10-27T01:22:33.148Z"
   },
   {
    "duration": -74,
    "start_time": "2021-10-27T01:22:33.152Z"
   },
   {
    "duration": -75,
    "start_time": "2021-10-27T01:22:33.155Z"
   },
   {
    "duration": -78,
    "start_time": "2021-10-27T01:22:33.159Z"
   },
   {
    "duration": 69,
    "start_time": "2021-10-27T01:23:48.658Z"
   },
   {
    "duration": 68,
    "start_time": "2021-10-27T01:23:52.391Z"
   },
   {
    "duration": 67,
    "start_time": "2021-10-27T01:23:58.455Z"
   },
   {
    "duration": 69,
    "start_time": "2021-10-27T01:23:58.524Z"
   },
   {
    "duration": 70,
    "start_time": "2021-10-27T01:23:58.595Z"
   },
   {
    "duration": 69,
    "start_time": "2021-10-27T01:23:58.667Z"
   },
   {
    "duration": 73,
    "start_time": "2021-10-27T01:23:58.738Z"
   },
   {
    "duration": 73,
    "start_time": "2021-10-27T01:23:58.812Z"
   },
   {
    "duration": 68,
    "start_time": "2021-10-27T01:23:58.887Z"
   },
   {
    "duration": 69,
    "start_time": "2021-10-27T01:23:58.957Z"
   },
   {
    "duration": 71,
    "start_time": "2021-10-27T01:23:59.028Z"
   },
   {
    "duration": 68,
    "start_time": "2021-10-27T01:23:59.100Z"
   }
  ],
  "kernelspec": {
   "display_name": "Python 3",
   "language": "python",
   "name": "python3"
  },
  "language_info": {
   "codemirror_mode": {
    "name": "ipython",
    "version": 3
   },
   "file_extension": ".py",
   "mimetype": "text/x-python",
   "name": "python",
   "nbconvert_exporter": "python",
   "pygments_lexer": "ipython3",
   "version": "3.8.8"
  },
  "toc": {
   "base_numbering": 1,
   "nav_menu": {},
   "number_sections": true,
   "sideBar": true,
   "skip_h1_title": true,
   "title_cell": "Table of Contents",
   "title_sidebar": "Contents",
   "toc_cell": true,
   "toc_position": {
    "height": "calc(100% - 180px)",
    "left": "10px",
    "top": "150px",
    "width": "270.391px"
   },
   "toc_section_display": true,
   "toc_window_display": true
  }
 },
 "nbformat": 4,
 "nbformat_minor": 2
}
